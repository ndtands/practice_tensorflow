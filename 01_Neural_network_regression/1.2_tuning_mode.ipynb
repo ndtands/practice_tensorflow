{
 "cells": [
  {
   "cell_type": "code",
   "execution_count": 1,
   "metadata": {},
   "outputs": [
    {
     "name": "stderr",
     "output_type": "stream",
     "text": [
      "2022-07-02 23:10:01.763501: I tensorflow/core/util/util.cc:169] oneDNN custom operations are on. You may see slightly different numerical results due to floating-point round-off errors from different computation orders. To turn them off, set the environment variable `TF_ENABLE_ONEDNN_OPTS=0`.\n"
     ]
    }
   ],
   "source": [
    "import tensorflow as tf\n",
    "import numpy as np\n",
    "import matplotlib.pyplot as plt\n",
    "import pandas as pd\n",
    "from sklearn.model_selection import train_test_split\n",
    "from tensorflow_addons.metrics.r_square import RSquare\n",
    "import tensorflow_addons as tfa\n",
    "from sklearn.compose import make_column_transformer\n",
    "from sklearn.preprocessing import MinMaxScaler, OneHotEncoder"
   ]
  },
  {
   "cell_type": "code",
   "execution_count": null,
   "metadata": {},
   "outputs": [],
   "source": [
    "tf.random.set_seed(\n",
    "    42\n",
    ")"
   ]
  },
  {
   "cell_type": "code",
   "execution_count": 2,
   "metadata": {},
   "outputs": [],
   "source": [
    "# Load data\n",
    "data = pd.read_csv('dataset/real/insurance.csv')\n",
    "data.drop(columns=['Unnamed: 0'],inplace=True)"
   ]
  },
  {
   "cell_type": "code",
   "execution_count": 3,
   "metadata": {},
   "outputs": [],
   "source": [
    "# Turn all categories into numbers\n",
    "insurance_one_hot = pd.get_dummies(data)\n",
    "insurance_one_hot.head() # view the converted columns\n",
    "# Create X & y values\n",
    "X = insurance_one_hot.drop(\"charges\", axis=1)\n",
    "y = insurance_one_hot[\"charges\"]"
   ]
  },
  {
   "cell_type": "code",
   "execution_count": 4,
   "metadata": {},
   "outputs": [],
   "source": [
    "from sklearn.model_selection import train_test_split\n",
    "X_train, X_test, y_train, y_test = train_test_split(\n",
    "    X,\n",
    "    y,\n",
    "    test_size = 0.2,\n",
    "    random_state=42\n",
    ")"
   ]
  },
  {
   "cell_type": "code",
   "execution_count": 5,
   "metadata": {},
   "outputs": [
    {
     "name": "stdout",
     "output_type": "stream",
     "text": [
      "Epoch 1/100\n"
     ]
    },
    {
     "name": "stderr",
     "output_type": "stream",
     "text": [
      "2022-07-02 23:10:03.914636: E tensorflow/stream_executor/cuda/cuda_driver.cc:271] failed call to cuInit: CUDA_ERROR_UNKNOWN: unknown error\n",
      "2022-07-02 23:10:03.914664: I tensorflow/stream_executor/cuda/cuda_diagnostics.cc:169] retrieving CUDA diagnostic information for host: tari-Nitro-AN515-56\n",
      "2022-07-02 23:10:03.914669: I tensorflow/stream_executor/cuda/cuda_diagnostics.cc:176] hostname: tari-Nitro-AN515-56\n",
      "2022-07-02 23:10:03.914769: I tensorflow/stream_executor/cuda/cuda_diagnostics.cc:200] libcuda reported version is: 470.129.6\n",
      "2022-07-02 23:10:03.914784: I tensorflow/stream_executor/cuda/cuda_diagnostics.cc:204] kernel reported version is: 470.129.6\n",
      "2022-07-02 23:10:03.914792: I tensorflow/stream_executor/cuda/cuda_diagnostics.cc:310] kernel version seems to match DSO: 470.129.6\n",
      "2022-07-02 23:10:03.915241: I tensorflow/core/platform/cpu_feature_guard.cc:193] This TensorFlow binary is optimized with oneAPI Deep Neural Network Library (oneDNN) to use the following CPU instructions in performance-critical operations:  AVX2 AVX512F AVX512_VNNI FMA\n",
      "To enable them in other operations, rebuild TensorFlow with the appropriate compiler flags.\n"
     ]
    },
    {
     "name": "stdout",
     "output_type": "stream",
     "text": [
      "34/34 [==============================] - 0s 4ms/step - loss: 13307.2598 - mae: 13307.2598 - val_loss: 12876.0889 - val_mae: 12876.0889\n",
      "Epoch 2/100\n",
      "34/34 [==============================] - 0s 2ms/step - loss: 13159.2822 - mae: 13159.2822 - val_loss: 12634.0244 - val_mae: 12634.0244\n",
      "Epoch 3/100\n",
      "34/34 [==============================] - 0s 2ms/step - loss: 12736.3545 - mae: 12736.3545 - val_loss: 11940.2705 - val_mae: 11940.2705\n",
      "Epoch 4/100\n",
      "34/34 [==============================] - 0s 2ms/step - loss: 11610.2754 - mae: 11610.2754 - val_loss: 10271.4180 - val_mae: 10271.4180\n",
      "Epoch 5/100\n",
      "34/34 [==============================] - 0s 2ms/step - loss: 9491.3643 - mae: 9491.3643 - val_loss: 8098.1548 - val_mae: 8098.1548\n",
      "Epoch 6/100\n",
      "34/34 [==============================] - 0s 2ms/step - loss: 7651.2603 - mae: 7651.2603 - val_loss: 7614.8281 - val_mae: 7614.8281\n",
      "Epoch 7/100\n",
      "34/34 [==============================] - 0s 2ms/step - loss: 7447.6650 - mae: 7447.6650 - val_loss: 7587.2476 - val_mae: 7587.2476\n",
      "Epoch 8/100\n",
      "34/34 [==============================] - 0s 2ms/step - loss: 7410.5991 - mae: 7410.5991 - val_loss: 7539.3765 - val_mae: 7539.3765\n",
      "Epoch 9/100\n",
      "34/34 [==============================] - 0s 2ms/step - loss: 7383.4575 - mae: 7383.4575 - val_loss: 7503.5269 - val_mae: 7503.5269\n",
      "Epoch 10/100\n",
      "34/34 [==============================] - 0s 2ms/step - loss: 7353.7563 - mae: 7353.7563 - val_loss: 7473.7441 - val_mae: 7473.7441\n",
      "Epoch 11/100\n",
      "34/34 [==============================] - 0s 2ms/step - loss: 7326.2871 - mae: 7326.2871 - val_loss: 7427.3301 - val_mae: 7427.3301\n",
      "Epoch 12/100\n",
      "34/34 [==============================] - 0s 2ms/step - loss: 7298.1592 - mae: 7298.1592 - val_loss: 7393.7358 - val_mae: 7393.7358\n",
      "Epoch 13/100\n",
      "34/34 [==============================] - 0s 2ms/step - loss: 7264.0488 - mae: 7264.0488 - val_loss: 7350.1987 - val_mae: 7350.1987\n",
      "Epoch 14/100\n",
      "34/34 [==============================] - 0s 2ms/step - loss: 7235.9458 - mae: 7235.9458 - val_loss: 7320.8481 - val_mae: 7320.8481\n",
      "Epoch 15/100\n",
      "34/34 [==============================] - 0s 2ms/step - loss: 7205.8208 - mae: 7205.8208 - val_loss: 7267.3154 - val_mae: 7267.3154\n",
      "Epoch 16/100\n",
      "34/34 [==============================] - 0s 2ms/step - loss: 7167.7222 - mae: 7167.7222 - val_loss: 7228.6572 - val_mae: 7228.6572\n",
      "Epoch 17/100\n",
      "34/34 [==============================] - 0s 2ms/step - loss: 7136.0039 - mae: 7136.0039 - val_loss: 7184.4214 - val_mae: 7184.4214\n",
      "Epoch 18/100\n",
      "34/34 [==============================] - 0s 2ms/step - loss: 7099.4556 - mae: 7099.4556 - val_loss: 7132.7246 - val_mae: 7132.7246\n",
      "Epoch 19/100\n",
      "34/34 [==============================] - 0s 2ms/step - loss: 7063.0142 - mae: 7063.0142 - val_loss: 7091.1182 - val_mae: 7091.1182\n",
      "Epoch 20/100\n",
      "34/34 [==============================] - 0s 2ms/step - loss: 7022.9126 - mae: 7022.9126 - val_loss: 7028.3193 - val_mae: 7028.3193\n",
      "Epoch 21/100\n",
      "34/34 [==============================] - 0s 3ms/step - loss: 6984.1665 - mae: 6984.1665 - val_loss: 6976.6060 - val_mae: 6976.6060\n",
      "Epoch 22/100\n",
      "34/34 [==============================] - 0s 2ms/step - loss: 6942.3032 - mae: 6942.3032 - val_loss: 6925.2896 - val_mae: 6925.2896\n",
      "Epoch 23/100\n",
      "34/34 [==============================] - 0s 3ms/step - loss: 6896.6206 - mae: 6896.6206 - val_loss: 6864.4434 - val_mae: 6864.4434\n",
      "Epoch 24/100\n",
      "34/34 [==============================] - 0s 2ms/step - loss: 6850.6958 - mae: 6850.6958 - val_loss: 6809.9077 - val_mae: 6809.9077\n",
      "Epoch 25/100\n",
      "34/34 [==============================] - 0s 2ms/step - loss: 6804.6680 - mae: 6804.6680 - val_loss: 6742.5522 - val_mae: 6742.5522\n",
      "Epoch 26/100\n",
      "34/34 [==============================] - 0s 2ms/step - loss: 6754.0156 - mae: 6754.0156 - val_loss: 6672.1875 - val_mae: 6672.1875\n",
      "Epoch 27/100\n",
      "34/34 [==============================] - 0s 3ms/step - loss: 6703.2583 - mae: 6703.2583 - val_loss: 6599.1187 - val_mae: 6599.1187\n",
      "Epoch 28/100\n",
      "34/34 [==============================] - 0s 2ms/step - loss: 6649.4800 - mae: 6649.4800 - val_loss: 6542.9009 - val_mae: 6542.9009\n",
      "Epoch 29/100\n",
      "34/34 [==============================] - 0s 3ms/step - loss: 6598.8774 - mae: 6598.8774 - val_loss: 6460.4414 - val_mae: 6460.4414\n",
      "Epoch 30/100\n",
      "34/34 [==============================] - 0s 2ms/step - loss: 6549.7690 - mae: 6549.7690 - val_loss: 6400.7759 - val_mae: 6400.7759\n",
      "Epoch 31/100\n",
      "34/34 [==============================] - 0s 2ms/step - loss: 6514.2852 - mae: 6514.2852 - val_loss: 6369.2847 - val_mae: 6369.2847\n",
      "Epoch 32/100\n",
      "34/34 [==============================] - 0s 2ms/step - loss: 6484.8892 - mae: 6484.8892 - val_loss: 6327.2051 - val_mae: 6327.2051\n",
      "Epoch 33/100\n",
      "34/34 [==============================] - 0s 2ms/step - loss: 6472.9897 - mae: 6472.9897 - val_loss: 6303.9844 - val_mae: 6303.9844\n",
      "Epoch 34/100\n",
      "34/34 [==============================] - 0s 2ms/step - loss: 6451.2031 - mae: 6451.2031 - val_loss: 6283.0122 - val_mae: 6283.0122\n",
      "Epoch 35/100\n",
      "34/34 [==============================] - 0s 3ms/step - loss: 6428.9136 - mae: 6428.9136 - val_loss: 6260.8193 - val_mae: 6260.8193\n",
      "Epoch 36/100\n",
      "34/34 [==============================] - 0s 3ms/step - loss: 6414.8086 - mae: 6414.8086 - val_loss: 6243.4658 - val_mae: 6243.4658\n",
      "Epoch 37/100\n",
      "34/34 [==============================] - 0s 3ms/step - loss: 6391.8486 - mae: 6391.8486 - val_loss: 6224.3628 - val_mae: 6224.3628\n",
      "Epoch 38/100\n",
      "34/34 [==============================] - 0s 2ms/step - loss: 6372.0586 - mae: 6372.0586 - val_loss: 6217.7627 - val_mae: 6217.7627\n",
      "Epoch 39/100\n",
      "34/34 [==============================] - 0s 3ms/step - loss: 6349.3218 - mae: 6349.3218 - val_loss: 6202.7324 - val_mae: 6202.7324\n",
      "Epoch 40/100\n",
      "34/34 [==============================] - 0s 2ms/step - loss: 6333.4365 - mae: 6333.4365 - val_loss: 6169.4512 - val_mae: 6169.4512\n",
      "Epoch 41/100\n",
      "34/34 [==============================] - 0s 2ms/step - loss: 6308.3926 - mae: 6308.3926 - val_loss: 6139.7666 - val_mae: 6139.7666\n",
      "Epoch 42/100\n",
      "34/34 [==============================] - 0s 2ms/step - loss: 6289.5098 - mae: 6289.5098 - val_loss: 6131.2319 - val_mae: 6131.2319\n",
      "Epoch 43/100\n",
      "34/34 [==============================] - 0s 2ms/step - loss: 6272.1060 - mae: 6272.1060 - val_loss: 6103.1816 - val_mae: 6103.1816\n",
      "Epoch 44/100\n",
      "34/34 [==============================] - 0s 2ms/step - loss: 6247.1436 - mae: 6247.1436 - val_loss: 6078.1494 - val_mae: 6078.1494\n",
      "Epoch 45/100\n",
      "34/34 [==============================] - 0s 2ms/step - loss: 6222.2012 - mae: 6222.2012 - val_loss: 6072.6987 - val_mae: 6072.6987\n",
      "Epoch 46/100\n",
      "34/34 [==============================] - 0s 2ms/step - loss: 6201.6069 - mae: 6201.6069 - val_loss: 6031.5464 - val_mae: 6031.5464\n",
      "Epoch 47/100\n",
      "34/34 [==============================] - 0s 2ms/step - loss: 6171.1606 - mae: 6171.1606 - val_loss: 5996.9307 - val_mae: 5996.9307\n",
      "Epoch 48/100\n",
      "34/34 [==============================] - 0s 2ms/step - loss: 6144.9038 - mae: 6144.9038 - val_loss: 5971.4771 - val_mae: 5971.4771\n",
      "Epoch 49/100\n",
      "34/34 [==============================] - 0s 2ms/step - loss: 6120.1040 - mae: 6120.1040 - val_loss: 5970.9141 - val_mae: 5970.9141\n",
      "Epoch 50/100\n",
      "34/34 [==============================] - 0s 2ms/step - loss: 6092.5059 - mae: 6092.5059 - val_loss: 5917.7856 - val_mae: 5917.7856\n",
      "Epoch 51/100\n",
      "34/34 [==============================] - 0s 2ms/step - loss: 6051.4990 - mae: 6051.4990 - val_loss: 5891.9058 - val_mae: 5891.9058\n",
      "Epoch 52/100\n",
      "34/34 [==============================] - 0s 2ms/step - loss: 6022.7510 - mae: 6022.7510 - val_loss: 5865.5376 - val_mae: 5865.5376\n",
      "Epoch 53/100\n",
      "34/34 [==============================] - 0s 2ms/step - loss: 5985.2974 - mae: 5985.2974 - val_loss: 5821.6978 - val_mae: 5821.6978\n",
      "Epoch 54/100\n",
      "34/34 [==============================] - 0s 2ms/step - loss: 5951.4170 - mae: 5951.4170 - val_loss: 5776.9829 - val_mae: 5776.9829\n",
      "Epoch 55/100\n",
      "34/34 [==============================] - 0s 1ms/step - loss: 5904.5972 - mae: 5904.5972 - val_loss: 5738.1943 - val_mae: 5738.1943\n",
      "Epoch 56/100\n",
      "34/34 [==============================] - 0s 1ms/step - loss: 5868.0791 - mae: 5868.0791 - val_loss: 5739.0420 - val_mae: 5739.0420\n",
      "Epoch 57/100\n",
      "34/34 [==============================] - 0s 1ms/step - loss: 5817.8271 - mae: 5817.8271 - val_loss: 5652.8936 - val_mae: 5652.8936\n",
      "Epoch 58/100\n",
      "34/34 [==============================] - 0s 1ms/step - loss: 5765.0806 - mae: 5765.0806 - val_loss: 5606.1982 - val_mae: 5606.1982\n",
      "Epoch 59/100\n",
      "34/34 [==============================] - 0s 2ms/step - loss: 5714.5146 - mae: 5714.5146 - val_loss: 5553.7319 - val_mae: 5553.7319\n",
      "Epoch 60/100\n",
      "34/34 [==============================] - 0s 1ms/step - loss: 5651.7544 - mae: 5651.7544 - val_loss: 5493.3203 - val_mae: 5493.3203\n",
      "Epoch 61/100\n",
      "34/34 [==============================] - 0s 1ms/step - loss: 5595.9722 - mae: 5595.9722 - val_loss: 5427.4946 - val_mae: 5427.4946\n",
      "Epoch 62/100\n",
      "34/34 [==============================] - 0s 2ms/step - loss: 5512.7583 - mae: 5512.7583 - val_loss: 5361.9570 - val_mae: 5361.9570\n",
      "Epoch 63/100\n",
      "34/34 [==============================] - 0s 2ms/step - loss: 5433.9619 - mae: 5433.9619 - val_loss: 5294.8105 - val_mae: 5294.8105\n",
      "Epoch 64/100\n",
      "34/34 [==============================] - 0s 2ms/step - loss: 5359.1807 - mae: 5359.1807 - val_loss: 5195.4307 - val_mae: 5195.4307\n",
      "Epoch 65/100\n",
      "34/34 [==============================] - 0s 1ms/step - loss: 5249.9204 - mae: 5249.9204 - val_loss: 5099.0415 - val_mae: 5099.0415\n",
      "Epoch 66/100\n",
      "34/34 [==============================] - 0s 2ms/step - loss: 5148.5469 - mae: 5148.5469 - val_loss: 4982.6069 - val_mae: 4982.6069\n",
      "Epoch 67/100\n",
      "34/34 [==============================] - 0s 2ms/step - loss: 5028.3076 - mae: 5028.3076 - val_loss: 4860.2310 - val_mae: 4860.2310\n",
      "Epoch 68/100\n",
      "34/34 [==============================] - 0s 1ms/step - loss: 4889.5547 - mae: 4889.5547 - val_loss: 4720.6655 - val_mae: 4720.6655\n",
      "Epoch 69/100\n",
      "34/34 [==============================] - 0s 1ms/step - loss: 4729.9160 - mae: 4729.9160 - val_loss: 4576.0957 - val_mae: 4576.0957\n",
      "Epoch 70/100\n",
      "34/34 [==============================] - 0s 2ms/step - loss: 4557.4297 - mae: 4557.4297 - val_loss: 4404.8496 - val_mae: 4404.8496\n",
      "Epoch 71/100\n",
      "34/34 [==============================] - 0s 2ms/step - loss: 4375.3579 - mae: 4375.3579 - val_loss: 4215.4189 - val_mae: 4215.4189\n",
      "Epoch 72/100\n",
      "34/34 [==============================] - 0s 1ms/step - loss: 4189.1128 - mae: 4189.1128 - val_loss: 4054.4141 - val_mae: 4054.4141\n",
      "Epoch 73/100\n",
      "34/34 [==============================] - 0s 2ms/step - loss: 4039.3879 - mae: 4039.3879 - val_loss: 3898.0247 - val_mae: 3898.0247\n",
      "Epoch 74/100\n",
      "34/34 [==============================] - 0s 2ms/step - loss: 3943.5020 - mae: 3943.5020 - val_loss: 3797.6274 - val_mae: 3797.6274\n",
      "Epoch 75/100\n",
      "34/34 [==============================] - 0s 2ms/step - loss: 3906.5200 - mae: 3906.5200 - val_loss: 3813.6670 - val_mae: 3813.6670\n",
      "Epoch 76/100\n",
      "34/34 [==============================] - 0s 2ms/step - loss: 3887.9065 - mae: 3887.9065 - val_loss: 3728.4995 - val_mae: 3728.4995\n",
      "Epoch 77/100\n",
      "34/34 [==============================] - 0s 2ms/step - loss: 3837.5928 - mae: 3837.5928 - val_loss: 3716.8010 - val_mae: 3716.8010\n",
      "Epoch 78/100\n",
      "34/34 [==============================] - 0s 1ms/step - loss: 3840.1614 - mae: 3840.1614 - val_loss: 3690.7605 - val_mae: 3690.7605\n",
      "Epoch 79/100\n",
      "34/34 [==============================] - 0s 2ms/step - loss: 3852.4089 - mae: 3852.4089 - val_loss: 3684.2581 - val_mae: 3684.2581\n",
      "Epoch 80/100\n",
      "34/34 [==============================] - 0s 2ms/step - loss: 3812.4421 - mae: 3812.4421 - val_loss: 3725.5537 - val_mae: 3725.5537\n",
      "Epoch 81/100\n",
      "34/34 [==============================] - 0s 1ms/step - loss: 3819.8088 - mae: 3819.8088 - val_loss: 3669.6804 - val_mae: 3669.6804\n",
      "Epoch 82/100\n",
      "34/34 [==============================] - 0s 1ms/step - loss: 3796.9556 - mae: 3796.9556 - val_loss: 3673.4773 - val_mae: 3673.4773\n",
      "Epoch 83/100\n",
      "34/34 [==============================] - 0s 2ms/step - loss: 3794.1787 - mae: 3794.1787 - val_loss: 3663.9504 - val_mae: 3663.9504\n",
      "Epoch 84/100\n",
      "34/34 [==============================] - 0s 2ms/step - loss: 3791.8711 - mae: 3791.8711 - val_loss: 3679.5413 - val_mae: 3679.5413\n",
      "Epoch 85/100\n",
      "34/34 [==============================] - 0s 1ms/step - loss: 3812.1289 - mae: 3812.1289 - val_loss: 3651.1321 - val_mae: 3651.1321\n",
      "Epoch 86/100\n",
      "34/34 [==============================] - 0s 2ms/step - loss: 3797.8469 - mae: 3797.8469 - val_loss: 3687.9778 - val_mae: 3687.9778\n",
      "Epoch 87/100\n",
      "34/34 [==============================] - 0s 2ms/step - loss: 3781.1702 - mae: 3781.1702 - val_loss: 3637.2776 - val_mae: 3637.2776\n",
      "Epoch 88/100\n",
      "34/34 [==============================] - 0s 2ms/step - loss: 3769.2954 - mae: 3769.2954 - val_loss: 3630.8228 - val_mae: 3630.8225\n",
      "Epoch 89/100\n",
      "34/34 [==============================] - 0s 1ms/step - loss: 3788.1194 - mae: 3788.1194 - val_loss: 3694.3879 - val_mae: 3694.3879\n",
      "Epoch 90/100\n",
      "34/34 [==============================] - 0s 2ms/step - loss: 3770.4348 - mae: 3770.4348 - val_loss: 3648.5420 - val_mae: 3648.5420\n",
      "Epoch 91/100\n",
      "34/34 [==============================] - 0s 2ms/step - loss: 3772.8472 - mae: 3772.8472 - val_loss: 3662.0261 - val_mae: 3662.0261\n",
      "Epoch 92/100\n",
      "34/34 [==============================] - 0s 2ms/step - loss: 3767.6877 - mae: 3767.6877 - val_loss: 3631.6199 - val_mae: 3631.6199\n",
      "Epoch 93/100\n",
      "34/34 [==============================] - 0s 3ms/step - loss: 3766.1797 - mae: 3766.1797 - val_loss: 3611.5757 - val_mae: 3611.5757\n",
      "Epoch 94/100\n",
      "34/34 [==============================] - 0s 2ms/step - loss: 3771.7498 - mae: 3771.7498 - val_loss: 3661.5903 - val_mae: 3661.5903\n",
      "Epoch 95/100\n",
      "34/34 [==============================] - 0s 2ms/step - loss: 3772.0254 - mae: 3772.0254 - val_loss: 3614.1240 - val_mae: 3614.1240\n",
      "Epoch 96/100\n",
      "34/34 [==============================] - 0s 2ms/step - loss: 3758.3726 - mae: 3758.3726 - val_loss: 3607.4128 - val_mae: 3607.4128\n",
      "Epoch 97/100\n",
      "34/34 [==============================] - 0s 2ms/step - loss: 3745.5796 - mae: 3745.5796 - val_loss: 3640.5454 - val_mae: 3640.5454\n",
      "Epoch 98/100\n",
      "34/34 [==============================] - 0s 2ms/step - loss: 3749.9619 - mae: 3749.9619 - val_loss: 3603.8459 - val_mae: 3603.8459\n",
      "Epoch 99/100\n",
      "34/34 [==============================] - 0s 2ms/step - loss: 3745.5059 - mae: 3745.5059 - val_loss: 3594.1426 - val_mae: 3594.1426\n",
      "Epoch 100/100\n",
      "34/34 [==============================] - 0s 2ms/step - loss: 3742.3071 - mae: 3742.3071 - val_loss: 3587.9299 - val_mae: 3587.9299\n"
     ]
    }
   ],
   "source": [
    "# Modeling\n",
    "model = tf.keras.Sequential([\n",
    "    tf.keras.layers.Dense(100),\n",
    "    tf.keras.layers.Dense(10),\n",
    "    tf.keras.layers.Dense(5),\n",
    "    tf.keras.layers.Dense(1),\n",
    "])\n",
    "\n",
    "# Compile\n",
    "model.compile(\n",
    "    loss=tf.keras.losses.mae,\n",
    "    optimizer = tf.keras.optimizers.Adam(),\n",
    "    metrics=['mae']\n",
    ")\n",
    "\n",
    "# Fit the model\n",
    "history = model.fit(X_train.values, y_train.values, epochs= 100, verbose=1,  validation_data=(X_test.values,y_test.values))"
   ]
  },
  {
   "cell_type": "code",
   "execution_count": 7,
   "metadata": {},
   "outputs": [
    {
     "name": "stdout",
     "output_type": "stream",
     "text": [
      "9/9 [==============================] - 0s 802us/step - loss: 3587.9299 - mae: 3587.9299\n"
     ]
    }
   ],
   "source": [
    "# Evaulate 3rd model by metrics\n",
    "model_loss, model_mae = model.evaluate(X_test, y_test)"
   ]
  },
  {
   "cell_type": "code",
   "execution_count": null,
   "metadata": {},
   "outputs": [],
   "source": [
    "%load_ext tensorboard"
   ]
  },
  {
   "cell_type": "code",
   "execution_count": 8,
   "metadata": {},
   "outputs": [
    {
     "name": "stdout",
     "output_type": "stream",
     "text": [
      "Model: \"sequential\"\n",
      "_________________________________________________________________\n",
      " Layer (type)                Output Shape              Param #   \n",
      "=================================================================\n",
      " dense (Dense)               (None, 100)               1200      \n",
      "                                                                 \n",
      " dense_1 (Dense)             (None, 10)                1010      \n",
      "                                                                 \n",
      " dense_2 (Dense)             (None, 5)                 55        \n",
      "                                                                 \n",
      " dense_3 (Dense)             (None, 1)                 6         \n",
      "                                                                 \n",
      "=================================================================\n",
      "Total params: 2,271\n",
      "Trainable params: 2,271\n",
      "Non-trainable params: 0\n",
      "_________________________________________________________________\n"
     ]
    }
   ],
   "source": [
    "model.summary()"
   ]
  },
  {
   "cell_type": "markdown",
   "metadata": {},
   "source": [
    "## Tuning"
   ]
  },
  {
   "cell_type": "code",
   "execution_count": 9,
   "metadata": {},
   "outputs": [],
   "source": [
    "import optuna\n",
    "from optuna.integration import TFKerasPruningCallback\n",
    "from optuna.trial import TrialState\n",
    "from optuna.visualization import plot_intermediate_values\n",
    "from optuna.visualization import plot_optimization_history\n",
    "from optuna.visualization import plot_param_importances\n",
    "from optuna.visualization import plot_contour"
   ]
  },
  {
   "cell_type": "code",
   "execution_count": 10,
   "metadata": {},
   "outputs": [],
   "source": [
    "def create_model(trial):\n",
    "    # Modeling\n",
    "    num_node_layer1 = trial.suggest_int(\"layer1\", 50, 100)\n",
    "    num_node_layer2 = trial.suggest_int(\"layer2\", 10, 50)\n",
    "    num_node_layer3 = trial.suggest_int(\"layer3\", 1, 10)\n",
    "    lr = trial.suggest_float('lr',5e-4,5e-3)\n",
    "    beta1 = trial.suggest_float('b1',0.85,0.95)\n",
    "    beta2 = trial.suggest_float('b2',0.99,0.999)\n",
    "    model = tf.keras.Sequential([\n",
    "        tf.keras.layers.Dense(num_node_layer1),\n",
    "        tf.keras.layers.Dense(num_node_layer2),\n",
    "        tf.keras.layers.Dense(num_node_layer3),\n",
    "        tf.keras.layers.Dense(1),\n",
    "    ])\n",
    "\n",
    "    # Compile\n",
    "    model.compile(\n",
    "        loss=tf.keras.losses.mae,\n",
    "        optimizer = tf.keras.optimizers.Adam(\n",
    "            learning_rate=lr,\n",
    "            beta_1= beta1,\n",
    "            beta_2= beta2\n",
    "        ),\n",
    "        metrics=['mae']\n",
    "    )\n",
    "    return model\n"
   ]
  },
  {
   "cell_type": "code",
   "execution_count": 12,
   "metadata": {},
   "outputs": [],
   "source": [
    "EPOCHS = 100 # number of epocs per trial\n",
    "def objective(trial):\n",
    "    model = create_model(trial)\n",
    "    # Fit the model on the training data.\n",
    "    model.fit(\n",
    "        X_train.values,\n",
    "        y_train.values,\n",
    "        epochs=EPOCHS,\n",
    "        validation_data=(X_test.values, y_test.values),\n",
    "        verbose=0,\n",
    "    )\n",
    "\n",
    "    # Evaluate the model accuracy on the validation set.\n",
    "    score = model.evaluate(X_test, y_test, verbose=0)\n",
    "    return score[1]"
   ]
  },
  {
   "cell_type": "code",
   "execution_count": 13,
   "metadata": {},
   "outputs": [
    {
     "name": "stderr",
     "output_type": "stream",
     "text": [
      "\u001b[32m[I 2022-07-02 23:11:48,551]\u001b[0m A new study created in memory with name: no-name-607838d1-8809-4dbc-9f96-dba94a03a470\u001b[0m\n",
      "\u001b[32m[I 2022-07-02 23:11:53,493]\u001b[0m Trial 0 finished with value: 3925.552734375 and parameters: {'layer1': 79, 'layer2': 32, 'layer3': 6, 'lr': 0.0005786558625862741, 'b1': 0.8965436603529848, 'b2': 0.991540751674065}. Best is trial 0 with value: 3925.552734375.\u001b[0m\n",
      "\u001b[32m[I 2022-07-02 23:11:58,384]\u001b[0m Trial 1 finished with value: 3160.989990234375 and parameters: {'layer1': 58, 'layer2': 32, 'layer3': 3, 'lr': 0.0029508522781749587, 'b1': 0.9235362122717298, 'b2': 0.9988318801916549}. Best is trial 1 with value: 3160.989990234375.\u001b[0m\n",
      "\u001b[32m[I 2022-07-02 23:12:03,061]\u001b[0m Trial 2 finished with value: 3159.830810546875 and parameters: {'layer1': 72, 'layer2': 46, 'layer3': 4, 'lr': 0.0030675664250030344, 'b1': 0.8970737529032222, 'b2': 0.9937217356850564}. Best is trial 2 with value: 3159.830810546875.\u001b[0m\n",
      "\u001b[32m[I 2022-07-02 23:12:07,718]\u001b[0m Trial 3 finished with value: 3173.924560546875 and parameters: {'layer1': 51, 'layer2': 49, 'layer3': 6, 'lr': 0.002134068946974025, 'b1': 0.8774363907335694, 'b2': 0.9927554081532329}. Best is trial 2 with value: 3159.830810546875.\u001b[0m\n",
      "\u001b[32m[I 2022-07-02 23:12:12,782]\u001b[0m Trial 4 finished with value: 3666.746826171875 and parameters: {'layer1': 61, 'layer2': 42, 'layer3': 4, 'lr': 0.0007197547309526929, 'b1': 0.8713324710380513, 'b2': 0.9977895913039646}. Best is trial 2 with value: 3159.830810546875.\u001b[0m\n",
      "\u001b[32m[I 2022-07-02 23:12:17,484]\u001b[0m Trial 5 finished with value: 3217.07958984375 and parameters: {'layer1': 61, 'layer2': 36, 'layer3': 10, 'lr': 0.004787189904597195, 'b1': 0.8981322399128243, 'b2': 0.9920100738281391}. Best is trial 2 with value: 3159.830810546875.\u001b[0m\n",
      "\u001b[32m[I 2022-07-02 23:12:23,073]\u001b[0m Trial 6 finished with value: 3593.222412109375 and parameters: {'layer1': 85, 'layer2': 33, 'layer3': 4, 'lr': 0.0008293048595325375, 'b1': 0.9356470904711928, 'b2': 0.9974625763595062}. Best is trial 2 with value: 3159.830810546875.\u001b[0m\n",
      "\u001b[32m[I 2022-07-02 23:12:28,524]\u001b[0m Trial 7 finished with value: 3181.966064453125 and parameters: {'layer1': 76, 'layer2': 11, 'layer3': 2, 'lr': 0.003859652878703511, 'b1': 0.8508819107894323, 'b2': 0.9985578099037232}. Best is trial 2 with value: 3159.830810546875.\u001b[0m\n",
      "\u001b[32m[I 2022-07-02 23:12:33,763]\u001b[0m Trial 8 finished with value: 3909.3701171875 and parameters: {'layer1': 55, 'layer2': 31, 'layer3': 10, 'lr': 0.0006264932920121817, 'b1': 0.864314401841265, 'b2': 0.9901880374264693}. Best is trial 2 with value: 3159.830810546875.\u001b[0m\n",
      "\u001b[32m[I 2022-07-02 23:12:38,578]\u001b[0m Trial 9 finished with value: 3178.71142578125 and parameters: {'layer1': 76, 'layer2': 20, 'layer3': 10, 'lr': 0.004321548875787644, 'b1': 0.8678453095688654, 'b2': 0.9928461540169584}. Best is trial 2 with value: 3159.830810546875.\u001b[0m\n",
      "\u001b[32m[I 2022-07-02 23:12:44,515]\u001b[0m Trial 10 finished with value: 3304.451171875 and parameters: {'layer1': 96, 'layer2': 48, 'layer3': 1, 'lr': 0.0026004677022945888, 'b1': 0.9178435228167656, 'b2': 0.9955507379161388}. Best is trial 2 with value: 3159.830810546875.\u001b[0m\n",
      "\u001b[32m[I 2022-07-02 23:12:50,357]\u001b[0m Trial 11 finished with value: 3196.42431640625 and parameters: {'layer1': 66, 'layer2': 20, 'layer3': 3, 'lr': 0.003262245991159665, 'b1': 0.921222504984846, 'b2': 0.9951363669112618}. Best is trial 2 with value: 3159.830810546875.\u001b[0m\n",
      "\u001b[32m[I 2022-07-02 23:12:56,300]\u001b[0m Trial 12 finished with value: 3180.5009765625 and parameters: {'layer1': 68, 'layer2': 41, 'layer3': 5, 'lr': 0.0018263833271198746, 'b1': 0.9488242414590913, 'b2': 0.9966540231085691}. Best is trial 2 with value: 3159.830810546875.\u001b[0m\n",
      "\u001b[32m[I 2022-07-02 23:13:01,203]\u001b[0m Trial 13 finished with value: 3157.156005859375 and parameters: {'layer1': 85, 'layer2': 23, 'layer3': 8, 'lr': 0.003375426763441398, 'b1': 0.9146905906352264, 'b2': 0.9940623882893228}. Best is trial 13 with value: 3157.156005859375.\u001b[0m\n",
      "\u001b[32m[I 2022-07-02 23:13:06,988]\u001b[0m Trial 14 finished with value: 3265.337158203125 and parameters: {'layer1': 88, 'layer2': 23, 'layer3': 8, 'lr': 0.003589351657741175, 'b1': 0.9080321757212345, 'b2': 0.9939876985724004}. Best is trial 13 with value: 3157.156005859375.\u001b[0m\n",
      "\u001b[32m[I 2022-07-02 23:13:12,642]\u001b[0m Trial 15 finished with value: 3215.919921875 and parameters: {'layer1': 100, 'layer2': 25, 'layer3': 8, 'lr': 0.002373211763962443, 'b1': 0.8868609671333392, 'b2': 0.9939189099520267}. Best is trial 13 with value: 3157.156005859375.\u001b[0m\n",
      "\u001b[32m[I 2022-07-02 23:13:18,160]\u001b[0m Trial 16 finished with value: 3229.335693359375 and parameters: {'layer1': 85, 'layer2': 13, 'layer3': 8, 'lr': 0.0017597203459768168, 'b1': 0.9057851192006704, 'b2': 0.9959834896004498}. Best is trial 13 with value: 3157.156005859375.\u001b[0m\n",
      "\u001b[32m[I 2022-07-02 23:13:23,580]\u001b[0m Trial 17 finished with value: 3161.942626953125 and parameters: {'layer1': 69, 'layer2': 26, 'layer3': 7, 'lr': 0.003928842788834901, 'b1': 0.8864027148539173, 'b2': 0.994572507411678}. Best is trial 13 with value: 3157.156005859375.\u001b[0m\n",
      "\u001b[32m[I 2022-07-02 23:13:28,628]\u001b[0m Trial 18 finished with value: 3208.71826171875 and parameters: {'layer1': 92, 'layer2': 16, 'layer3': 5, 'lr': 0.003064062256195152, 'b1': 0.9346021142413224, 'b2': 0.9935933148766052}. Best is trial 13 with value: 3157.156005859375.\u001b[0m\n",
      "\u001b[32m[I 2022-07-02 23:13:33,598]\u001b[0m Trial 19 finished with value: 3547.472412109375 and parameters: {'layer1': 83, 'layer2': 44, 'layer3': 7, 'lr': 0.0049542866034479605, 'b1': 0.9121600282348735, 'b2': 0.9902683585780876}. Best is trial 13 with value: 3157.156005859375.\u001b[0m\n",
      "\u001b[32m[I 2022-07-02 23:13:38,306]\u001b[0m Trial 20 finished with value: 3388.0234375 and parameters: {'layer1': 72, 'layer2': 37, 'layer3': 9, 'lr': 0.0013500188294095737, 'b1': 0.8881850916028124, 'b2': 0.9916913594117088}. Best is trial 13 with value: 3157.156005859375.\u001b[0m\n",
      "\u001b[32m[I 2022-07-02 23:13:43,764]\u001b[0m Trial 21 finished with value: 3184.23486328125 and parameters: {'layer1': 61, 'layer2': 27, 'layer3': 3, 'lr': 0.002983813109084081, 'b1': 0.9276424381123928, 'b2': 0.99472483230085}. Best is trial 13 with value: 3157.156005859375.\u001b[0m\n",
      "\u001b[32m[I 2022-07-02 23:13:48,862]\u001b[0m Trial 22 finished with value: 3226.462158203125 and parameters: {'layer1': 80, 'layer2': 19, 'layer3': 3, 'lr': 0.0033887668120098063, 'b1': 0.9245222890394514, 'b2': 0.9964496482794098}. Best is trial 13 with value: 3157.156005859375.\u001b[0m\n",
      "\u001b[32m[I 2022-07-02 23:13:54,543]\u001b[0m Trial 23 finished with value: 3180.94677734375 and parameters: {'layer1': 91, 'layer2': 37, 'layer3': 1, 'lr': 0.0026917356882558575, 'b1': 0.9404083582251743, 'b2': 0.9931072178558503}. Best is trial 13 with value: 3157.156005859375.\u001b[0m\n",
      "\u001b[32m[I 2022-07-02 23:13:59,840]\u001b[0m Trial 24 finished with value: 3167.880126953125 and parameters: {'layer1': 55, 'layer2': 28, 'layer3': 4, 'lr': 0.00428158568671567, 'b1': 0.9133489099712349, 'b2': 0.9989455588312225}. Best is trial 13 with value: 3157.156005859375.\u001b[0m\n",
      "\u001b[32m[I 2022-07-02 23:14:05,260]\u001b[0m Trial 25 finished with value: 3214.47705078125 and parameters: {'layer1': 50, 'layer2': 46, 'layer3': 2, 'lr': 0.0029779992852276217, 'b1': 0.903002378571152, 'b2': 0.9952864604945938}. Best is trial 13 with value: 3157.156005859375.\u001b[0m\n",
      "\u001b[32m[I 2022-07-02 23:14:10,902]\u001b[0m Trial 26 finished with value: 3352.767822265625 and parameters: {'layer1': 72, 'layer2': 39, 'layer3': 5, 'lr': 0.0036788795555791885, 'b1': 0.9295622221623114, 'b2': 0.9923100740322464}. Best is trial 13 with value: 3157.156005859375.\u001b[0m\n",
      "\u001b[32m[I 2022-07-02 23:14:16,834]\u001b[0m Trial 27 finished with value: 3178.33837890625 and parameters: {'layer1': 65, 'layer2': 23, 'layer3': 2, 'lr': 0.0023635196020592004, 'b1': 0.8949986053212151, 'b2': 0.9938086476773085}. Best is trial 13 with value: 3157.156005859375.\u001b[0m\n",
      "\u001b[32m[I 2022-07-02 23:14:21,829]\u001b[0m Trial 28 finished with value: 3176.916748046875 and parameters: {'layer1': 57, 'layer2': 16, 'layer3': 7, 'lr': 0.004145404197476544, 'b1': 0.9210362565803503, 'b2': 0.9910489175862655}. Best is trial 13 with value: 3157.156005859375.\u001b[0m\n",
      "\u001b[32m[I 2022-07-02 23:14:27,729]\u001b[0m Trial 29 finished with value: 3286.41796875 and parameters: {'layer1': 79, 'layer2': 33, 'layer3': 6, 'lr': 0.003309383648871266, 'b1': 0.8935165939723851, 'b2': 0.9969877663563035}. Best is trial 13 with value: 3157.156005859375.\u001b[0m\n",
      "\u001b[32m[I 2022-07-02 23:14:33,029]\u001b[0m Trial 30 finished with value: 3204.6171875 and parameters: {'layer1': 73, 'layer2': 35, 'layer3': 4, 'lr': 0.004568228368557553, 'b1': 0.9138155205933935, 'b2': 0.9911247743991587}. Best is trial 13 with value: 3157.156005859375.\u001b[0m\n",
      "\u001b[32m[I 2022-07-02 23:14:38,263]\u001b[0m Trial 31 finished with value: 3171.9169921875 and parameters: {'layer1': 69, 'layer2': 26, 'layer3': 7, 'lr': 0.003910193719611848, 'b1': 0.8811800282711371, 'b2': 0.9944637768951013}. Best is trial 13 with value: 3157.156005859375.\u001b[0m\n",
      "\u001b[32m[I 2022-07-02 23:14:42,979]\u001b[0m Trial 32 finished with value: 3171.355224609375 and parameters: {'layer1': 80, 'layer2': 29, 'layer3': 9, 'lr': 0.003559739394385777, 'b1': 0.8883704685790209, 'b2': 0.9944742934715611}. Best is trial 13 with value: 3157.156005859375.\u001b[0m\n",
      "\u001b[32m[I 2022-07-02 23:14:47,736]\u001b[0m Trial 33 finished with value: 3310.69482421875 and parameters: {'layer1': 65, 'layer2': 24, 'layer3': 6, 'lr': 0.003997556700393414, 'b1': 0.9017135516737214, 'b2': 0.9932353653269403}. Best is trial 13 with value: 3157.156005859375.\u001b[0m\n",
      "\u001b[32m[I 2022-07-02 23:14:52,791]\u001b[0m Trial 34 finished with value: 3163.2880859375 and parameters: {'layer1': 59, 'layer2': 30, 'layer3': 7, 'lr': 0.002875829367992958, 'b1': 0.8780477602246305, 'b2': 0.9923965790396684}. Best is trial 13 with value: 3157.156005859375.\u001b[0m\n",
      "\u001b[32m[I 2022-07-02 23:14:58,971]\u001b[0m Trial 35 finished with value: 3167.638916015625 and parameters: {'layer1': 70, 'layer2': 50, 'layer3': 9, 'lr': 0.0032000497841943943, 'b1': 0.8979204985198318, 'b2': 0.9977898777825815}. Best is trial 13 with value: 3157.156005859375.\u001b[0m\n",
      "\u001b[32m[I 2022-07-02 23:15:04,276]\u001b[0m Trial 36 finished with value: 3199.883544921875 and parameters: {'layer1': 77, 'layer2': 22, 'layer3': 4, 'lr': 0.00248580692075492, 'b1': 0.9090390755666674, 'b2': 0.9960961800338548}. Best is trial 13 with value: 3157.156005859375.\u001b[0m\n",
      "\u001b[32m[I 2022-07-02 23:15:09,387]\u001b[0m Trial 37 finished with value: 3206.21435546875 and parameters: {'layer1': 63, 'layer2': 17, 'layer3': 6, 'lr': 0.0021308100527886484, 'b1': 0.871895220756035, 'b2': 0.9949784323806568}. Best is trial 13 with value: 3157.156005859375.\u001b[0m\n",
      "\u001b[32m[I 2022-07-02 23:15:14,450]\u001b[0m Trial 38 finished with value: 3170.810791015625 and parameters: {'layer1': 83, 'layer2': 42, 'layer3': 3, 'lr': 0.003763199744976452, 'b1': 0.8587424813171568, 'b2': 0.9983512173277944}. Best is trial 13 with value: 3157.156005859375.\u001b[0m\n",
      "\u001b[32m[I 2022-07-02 23:15:19,249]\u001b[0m Trial 39 finished with value: 3168.5517578125 and parameters: {'layer1': 75, 'layer2': 32, 'layer3': 5, 'lr': 0.0045979657585909755, 'b1': 0.8924962400412221, 'b2': 0.9942374386370806}. Best is trial 13 with value: 3157.156005859375.\u001b[0m\n",
      "\u001b[32m[I 2022-07-02 23:15:24,187]\u001b[0m Trial 40 finished with value: 3298.487060546875 and parameters: {'layer1': 53, 'layer2': 21, 'layer3': 8, 'lr': 0.003461733621254496, 'b1': 0.8839488798846602, 'b2': 0.9933300798544508}. Best is trial 13 with value: 3157.156005859375.\u001b[0m\n",
      "\u001b[32m[I 2022-07-02 23:15:29,260]\u001b[0m Trial 41 finished with value: 3194.195068359375 and parameters: {'layer1': 58, 'layer2': 30, 'layer3': 7, 'lr': 0.003064581855686951, 'b1': 0.8753501854945999, 'b2': 0.9924649717870175}. Best is trial 13 with value: 3157.156005859375.\u001b[0m\n",
      "\u001b[32m[I 2022-07-02 23:15:35,388]\u001b[0m Trial 42 finished with value: 3152.5634765625 and parameters: {'layer1': 59, 'layer2': 35, 'layer3': 7, 'lr': 0.0028343756747180615, 'b1': 0.8776349556519227, 'b2': 0.9926220490823331}. Best is trial 42 with value: 3152.5634765625.\u001b[0m\n"
     ]
    }
   ],
   "source": [
    "study = optuna.create_study(direction=\"minimize\", sampler=optuna.samplers.TPESampler(), pruner=optuna.pruners.HyperbandPruner())\n",
    "study.optimize(objective, n_trials=50)\n",
    "pruned_trials = study.get_trials(deepcopy=False, states=[TrialState.PRUNED])\n",
    "complete_trials = study.get_trials(deepcopy=False, states=[TrialState.COMPLETE])"
   ]
  },
  {
   "cell_type": "code",
   "execution_count": null,
   "metadata": {},
   "outputs": [
    {
     "data": {
      "application/vnd.plotly.v1+json": {
       "config": {
        "plotlyServerURL": "https://plot.ly"
       },
       "data": [
        {
         "mode": "markers",
         "name": "Objective Value",
         "type": "scatter",
         "x": [
          0,
          1,
          2,
          3,
          4,
          5,
          6,
          7,
          8,
          9,
          10,
          11,
          12,
          13,
          14
         ],
         "y": [
          -1.077723503112793,
          -1.0804870128631592,
          -1.0447523593902588,
          -1.0814754962921143,
          -1.0808441638946533,
          -1.0767991542816162,
          -1.070124864578247,
          -1.0383937358856201,
          -1.031236171722412,
          -1.0349550247192383,
          -1.0828592777252197,
          -1.0830819606781006,
          -1.083174467086792,
          -1.081322431564331,
          -1.0710039138793945
         ]
        },
        {
         "name": "Best Value",
         "type": "scatter",
         "x": [
          0,
          1,
          2,
          3,
          4,
          5,
          6,
          7,
          8,
          9,
          10,
          11,
          12,
          13,
          14
         ],
         "y": [
          -1.077723503112793,
          -1.0804870128631592,
          -1.0804870128631592,
          -1.0814754962921143,
          -1.0814754962921143,
          -1.0814754962921143,
          -1.0814754962921143,
          -1.0814754962921143,
          -1.0814754962921143,
          -1.0814754962921143,
          -1.0828592777252197,
          -1.0830819606781006,
          -1.083174467086792,
          -1.083174467086792,
          -1.083174467086792
         ]
        }
       ],
       "layout": {
        "template": {
         "data": {
          "bar": [
           {
            "error_x": {
             "color": "#2a3f5f"
            },
            "error_y": {
             "color": "#2a3f5f"
            },
            "marker": {
             "line": {
              "color": "#E5ECF6",
              "width": 0.5
             },
             "pattern": {
              "fillmode": "overlay",
              "size": 10,
              "solidity": 0.2
             }
            },
            "type": "bar"
           }
          ],
          "barpolar": [
           {
            "marker": {
             "line": {
              "color": "#E5ECF6",
              "width": 0.5
             },
             "pattern": {
              "fillmode": "overlay",
              "size": 10,
              "solidity": 0.2
             }
            },
            "type": "barpolar"
           }
          ],
          "carpet": [
           {
            "aaxis": {
             "endlinecolor": "#2a3f5f",
             "gridcolor": "white",
             "linecolor": "white",
             "minorgridcolor": "white",
             "startlinecolor": "#2a3f5f"
            },
            "baxis": {
             "endlinecolor": "#2a3f5f",
             "gridcolor": "white",
             "linecolor": "white",
             "minorgridcolor": "white",
             "startlinecolor": "#2a3f5f"
            },
            "type": "carpet"
           }
          ],
          "choropleth": [
           {
            "colorbar": {
             "outlinewidth": 0,
             "ticks": ""
            },
            "type": "choropleth"
           }
          ],
          "contour": [
           {
            "colorbar": {
             "outlinewidth": 0,
             "ticks": ""
            },
            "colorscale": [
             [
              0,
              "#0d0887"
             ],
             [
              0.1111111111111111,
              "#46039f"
             ],
             [
              0.2222222222222222,
              "#7201a8"
             ],
             [
              0.3333333333333333,
              "#9c179e"
             ],
             [
              0.4444444444444444,
              "#bd3786"
             ],
             [
              0.5555555555555556,
              "#d8576b"
             ],
             [
              0.6666666666666666,
              "#ed7953"
             ],
             [
              0.7777777777777778,
              "#fb9f3a"
             ],
             [
              0.8888888888888888,
              "#fdca26"
             ],
             [
              1,
              "#f0f921"
             ]
            ],
            "type": "contour"
           }
          ],
          "contourcarpet": [
           {
            "colorbar": {
             "outlinewidth": 0,
             "ticks": ""
            },
            "type": "contourcarpet"
           }
          ],
          "heatmap": [
           {
            "colorbar": {
             "outlinewidth": 0,
             "ticks": ""
            },
            "colorscale": [
             [
              0,
              "#0d0887"
             ],
             [
              0.1111111111111111,
              "#46039f"
             ],
             [
              0.2222222222222222,
              "#7201a8"
             ],
             [
              0.3333333333333333,
              "#9c179e"
             ],
             [
              0.4444444444444444,
              "#bd3786"
             ],
             [
              0.5555555555555556,
              "#d8576b"
             ],
             [
              0.6666666666666666,
              "#ed7953"
             ],
             [
              0.7777777777777778,
              "#fb9f3a"
             ],
             [
              0.8888888888888888,
              "#fdca26"
             ],
             [
              1,
              "#f0f921"
             ]
            ],
            "type": "heatmap"
           }
          ],
          "heatmapgl": [
           {
            "colorbar": {
             "outlinewidth": 0,
             "ticks": ""
            },
            "colorscale": [
             [
              0,
              "#0d0887"
             ],
             [
              0.1111111111111111,
              "#46039f"
             ],
             [
              0.2222222222222222,
              "#7201a8"
             ],
             [
              0.3333333333333333,
              "#9c179e"
             ],
             [
              0.4444444444444444,
              "#bd3786"
             ],
             [
              0.5555555555555556,
              "#d8576b"
             ],
             [
              0.6666666666666666,
              "#ed7953"
             ],
             [
              0.7777777777777778,
              "#fb9f3a"
             ],
             [
              0.8888888888888888,
              "#fdca26"
             ],
             [
              1,
              "#f0f921"
             ]
            ],
            "type": "heatmapgl"
           }
          ],
          "histogram": [
           {
            "marker": {
             "pattern": {
              "fillmode": "overlay",
              "size": 10,
              "solidity": 0.2
             }
            },
            "type": "histogram"
           }
          ],
          "histogram2d": [
           {
            "colorbar": {
             "outlinewidth": 0,
             "ticks": ""
            },
            "colorscale": [
             [
              0,
              "#0d0887"
             ],
             [
              0.1111111111111111,
              "#46039f"
             ],
             [
              0.2222222222222222,
              "#7201a8"
             ],
             [
              0.3333333333333333,
              "#9c179e"
             ],
             [
              0.4444444444444444,
              "#bd3786"
             ],
             [
              0.5555555555555556,
              "#d8576b"
             ],
             [
              0.6666666666666666,
              "#ed7953"
             ],
             [
              0.7777777777777778,
              "#fb9f3a"
             ],
             [
              0.8888888888888888,
              "#fdca26"
             ],
             [
              1,
              "#f0f921"
             ]
            ],
            "type": "histogram2d"
           }
          ],
          "histogram2dcontour": [
           {
            "colorbar": {
             "outlinewidth": 0,
             "ticks": ""
            },
            "colorscale": [
             [
              0,
              "#0d0887"
             ],
             [
              0.1111111111111111,
              "#46039f"
             ],
             [
              0.2222222222222222,
              "#7201a8"
             ],
             [
              0.3333333333333333,
              "#9c179e"
             ],
             [
              0.4444444444444444,
              "#bd3786"
             ],
             [
              0.5555555555555556,
              "#d8576b"
             ],
             [
              0.6666666666666666,
              "#ed7953"
             ],
             [
              0.7777777777777778,
              "#fb9f3a"
             ],
             [
              0.8888888888888888,
              "#fdca26"
             ],
             [
              1,
              "#f0f921"
             ]
            ],
            "type": "histogram2dcontour"
           }
          ],
          "mesh3d": [
           {
            "colorbar": {
             "outlinewidth": 0,
             "ticks": ""
            },
            "type": "mesh3d"
           }
          ],
          "parcoords": [
           {
            "line": {
             "colorbar": {
              "outlinewidth": 0,
              "ticks": ""
             }
            },
            "type": "parcoords"
           }
          ],
          "pie": [
           {
            "automargin": true,
            "type": "pie"
           }
          ],
          "scatter": [
           {
            "fillpattern": {
             "fillmode": "overlay",
             "size": 10,
             "solidity": 0.2
            },
            "type": "scatter"
           }
          ],
          "scatter3d": [
           {
            "line": {
             "colorbar": {
              "outlinewidth": 0,
              "ticks": ""
             }
            },
            "marker": {
             "colorbar": {
              "outlinewidth": 0,
              "ticks": ""
             }
            },
            "type": "scatter3d"
           }
          ],
          "scattercarpet": [
           {
            "marker": {
             "colorbar": {
              "outlinewidth": 0,
              "ticks": ""
             }
            },
            "type": "scattercarpet"
           }
          ],
          "scattergeo": [
           {
            "marker": {
             "colorbar": {
              "outlinewidth": 0,
              "ticks": ""
             }
            },
            "type": "scattergeo"
           }
          ],
          "scattergl": [
           {
            "marker": {
             "colorbar": {
              "outlinewidth": 0,
              "ticks": ""
             }
            },
            "type": "scattergl"
           }
          ],
          "scattermapbox": [
           {
            "marker": {
             "colorbar": {
              "outlinewidth": 0,
              "ticks": ""
             }
            },
            "type": "scattermapbox"
           }
          ],
          "scatterpolar": [
           {
            "marker": {
             "colorbar": {
              "outlinewidth": 0,
              "ticks": ""
             }
            },
            "type": "scatterpolar"
           }
          ],
          "scatterpolargl": [
           {
            "marker": {
             "colorbar": {
              "outlinewidth": 0,
              "ticks": ""
             }
            },
            "type": "scatterpolargl"
           }
          ],
          "scatterternary": [
           {
            "marker": {
             "colorbar": {
              "outlinewidth": 0,
              "ticks": ""
             }
            },
            "type": "scatterternary"
           }
          ],
          "surface": [
           {
            "colorbar": {
             "outlinewidth": 0,
             "ticks": ""
            },
            "colorscale": [
             [
              0,
              "#0d0887"
             ],
             [
              0.1111111111111111,
              "#46039f"
             ],
             [
              0.2222222222222222,
              "#7201a8"
             ],
             [
              0.3333333333333333,
              "#9c179e"
             ],
             [
              0.4444444444444444,
              "#bd3786"
             ],
             [
              0.5555555555555556,
              "#d8576b"
             ],
             [
              0.6666666666666666,
              "#ed7953"
             ],
             [
              0.7777777777777778,
              "#fb9f3a"
             ],
             [
              0.8888888888888888,
              "#fdca26"
             ],
             [
              1,
              "#f0f921"
             ]
            ],
            "type": "surface"
           }
          ],
          "table": [
           {
            "cells": {
             "fill": {
              "color": "#EBF0F8"
             },
             "line": {
              "color": "white"
             }
            },
            "header": {
             "fill": {
              "color": "#C8D4E3"
             },
             "line": {
              "color": "white"
             }
            },
            "type": "table"
           }
          ]
         },
         "layout": {
          "annotationdefaults": {
           "arrowcolor": "#2a3f5f",
           "arrowhead": 0,
           "arrowwidth": 1
          },
          "autotypenumbers": "strict",
          "coloraxis": {
           "colorbar": {
            "outlinewidth": 0,
            "ticks": ""
           }
          },
          "colorscale": {
           "diverging": [
            [
             0,
             "#8e0152"
            ],
            [
             0.1,
             "#c51b7d"
            ],
            [
             0.2,
             "#de77ae"
            ],
            [
             0.3,
             "#f1b6da"
            ],
            [
             0.4,
             "#fde0ef"
            ],
            [
             0.5,
             "#f7f7f7"
            ],
            [
             0.6,
             "#e6f5d0"
            ],
            [
             0.7,
             "#b8e186"
            ],
            [
             0.8,
             "#7fbc41"
            ],
            [
             0.9,
             "#4d9221"
            ],
            [
             1,
             "#276419"
            ]
           ],
           "sequential": [
            [
             0,
             "#0d0887"
            ],
            [
             0.1111111111111111,
             "#46039f"
            ],
            [
             0.2222222222222222,
             "#7201a8"
            ],
            [
             0.3333333333333333,
             "#9c179e"
            ],
            [
             0.4444444444444444,
             "#bd3786"
            ],
            [
             0.5555555555555556,
             "#d8576b"
            ],
            [
             0.6666666666666666,
             "#ed7953"
            ],
            [
             0.7777777777777778,
             "#fb9f3a"
            ],
            [
             0.8888888888888888,
             "#fdca26"
            ],
            [
             1,
             "#f0f921"
            ]
           ],
           "sequentialminus": [
            [
             0,
             "#0d0887"
            ],
            [
             0.1111111111111111,
             "#46039f"
            ],
            [
             0.2222222222222222,
             "#7201a8"
            ],
            [
             0.3333333333333333,
             "#9c179e"
            ],
            [
             0.4444444444444444,
             "#bd3786"
            ],
            [
             0.5555555555555556,
             "#d8576b"
            ],
            [
             0.6666666666666666,
             "#ed7953"
            ],
            [
             0.7777777777777778,
             "#fb9f3a"
            ],
            [
             0.8888888888888888,
             "#fdca26"
            ],
            [
             1,
             "#f0f921"
            ]
           ]
          },
          "colorway": [
           "#636efa",
           "#EF553B",
           "#00cc96",
           "#ab63fa",
           "#FFA15A",
           "#19d3f3",
           "#FF6692",
           "#B6E880",
           "#FF97FF",
           "#FECB52"
          ],
          "font": {
           "color": "#2a3f5f"
          },
          "geo": {
           "bgcolor": "white",
           "lakecolor": "white",
           "landcolor": "#E5ECF6",
           "showlakes": true,
           "showland": true,
           "subunitcolor": "white"
          },
          "hoverlabel": {
           "align": "left"
          },
          "hovermode": "closest",
          "mapbox": {
           "style": "light"
          },
          "paper_bgcolor": "white",
          "plot_bgcolor": "#E5ECF6",
          "polar": {
           "angularaxis": {
            "gridcolor": "white",
            "linecolor": "white",
            "ticks": ""
           },
           "bgcolor": "#E5ECF6",
           "radialaxis": {
            "gridcolor": "white",
            "linecolor": "white",
            "ticks": ""
           }
          },
          "scene": {
           "xaxis": {
            "backgroundcolor": "#E5ECF6",
            "gridcolor": "white",
            "gridwidth": 2,
            "linecolor": "white",
            "showbackground": true,
            "ticks": "",
            "zerolinecolor": "white"
           },
           "yaxis": {
            "backgroundcolor": "#E5ECF6",
            "gridcolor": "white",
            "gridwidth": 2,
            "linecolor": "white",
            "showbackground": true,
            "ticks": "",
            "zerolinecolor": "white"
           },
           "zaxis": {
            "backgroundcolor": "#E5ECF6",
            "gridcolor": "white",
            "gridwidth": 2,
            "linecolor": "white",
            "showbackground": true,
            "ticks": "",
            "zerolinecolor": "white"
           }
          },
          "shapedefaults": {
           "line": {
            "color": "#2a3f5f"
           }
          },
          "ternary": {
           "aaxis": {
            "gridcolor": "white",
            "linecolor": "white",
            "ticks": ""
           },
           "baxis": {
            "gridcolor": "white",
            "linecolor": "white",
            "ticks": ""
           },
           "bgcolor": "#E5ECF6",
           "caxis": {
            "gridcolor": "white",
            "linecolor": "white",
            "ticks": ""
           }
          },
          "title": {
           "x": 0.05
          },
          "xaxis": {
           "automargin": true,
           "gridcolor": "white",
           "linecolor": "white",
           "ticks": "",
           "title": {
            "standoff": 15
           },
           "zerolinecolor": "white",
           "zerolinewidth": 2
          },
          "yaxis": {
           "automargin": true,
           "gridcolor": "white",
           "linecolor": "white",
           "ticks": "",
           "title": {
            "standoff": 15
           },
           "zerolinecolor": "white",
           "zerolinewidth": 2
          }
         }
        },
        "title": {
         "text": "Optimization History Plot"
        },
        "xaxis": {
         "title": {
          "text": "#Trials"
         }
        },
        "yaxis": {
         "title": {
          "text": "Objective Value"
         }
        }
       }
      }
     },
     "metadata": {},
     "output_type": "display_data"
    }
   ],
   "source": [
    "plot_optimization_history(study)"
   ]
  },
  {
   "cell_type": "code",
   "execution_count": null,
   "metadata": {},
   "outputs": [],
   "source": []
  }
 ],
 "metadata": {
  "kernelspec": {
   "display_name": "Python 3.8.10 ('cer_tensorflow')",
   "language": "python",
   "name": "python3"
  },
  "language_info": {
   "codemirror_mode": {
    "name": "ipython",
    "version": 3
   },
   "file_extension": ".py",
   "mimetype": "text/x-python",
   "name": "python",
   "nbconvert_exporter": "python",
   "pygments_lexer": "ipython3",
   "version": "3.8.10"
  },
  "orig_nbformat": 4,
  "vscode": {
   "interpreter": {
    "hash": "e8a34d558487fb972886c2414a21f1669aa87ac468221abd21a5c7781ff27a8e"
   }
  }
 },
 "nbformat": 4,
 "nbformat_minor": 2
}
