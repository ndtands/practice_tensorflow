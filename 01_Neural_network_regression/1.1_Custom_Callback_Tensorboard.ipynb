{
 "cells": [
  {
   "cell_type": "code",
   "execution_count": 1,
   "metadata": {},
   "outputs": [
    {
     "name": "stderr",
     "output_type": "stream",
     "text": [
      "2022-07-02 22:16:34.481409: I tensorflow/core/util/util.cc:169] oneDNN custom operations are on. You may see slightly different numerical results due to floating-point round-off errors from different computation orders. To turn them off, set the environment variable `TF_ENABLE_ONEDNN_OPTS=0`.\n"
     ]
    }
   ],
   "source": [
    "import tensorflow as tf\n",
    "import numpy as np\n",
    "import matplotlib.pyplot as plt\n",
    "import pandas as pd"
   ]
  },
  {
   "cell_type": "markdown",
   "metadata": {},
   "source": [
    "## Load data"
   ]
  },
  {
   "cell_type": "code",
   "execution_count": 2,
   "metadata": {},
   "outputs": [],
   "source": [
    "data = pd.read_csv('dataset/real/insurance.csv')\n",
    "data.drop(columns=['Unnamed: 0'],inplace=True)"
   ]
  },
  {
   "cell_type": "markdown",
   "metadata": {},
   "source": [
    "## Preprocess data"
   ]
  },
  {
   "cell_type": "code",
   "execution_count": 3,
   "metadata": {},
   "outputs": [],
   "source": [
    "# Turn all categories into numbers\n",
    "insurance_one_hot = pd.get_dummies(data)\n",
    "insurance_one_hot.head() # view the converted columns\n",
    "# Create X & y values\n",
    "X = insurance_one_hot.drop(\"charges\", axis=1)\n",
    "y = insurance_one_hot[\"charges\"]"
   ]
  },
  {
   "cell_type": "code",
   "execution_count": 4,
   "metadata": {},
   "outputs": [],
   "source": [
    "from sklearn.model_selection import train_test_split\n",
    "X_train, X_test, y_train, y_test = train_test_split(\n",
    "    X,\n",
    "    y,\n",
    "    test_size = 0.2,\n",
    "    random_state=42\n",
    ")"
   ]
  },
  {
   "cell_type": "markdown",
   "metadata": {},
   "source": [
    "# Model"
   ]
  },
  {
   "cell_type": "markdown",
   "metadata": {},
   "source": [
    "## 1. Model with MAE"
   ]
  },
  {
   "cell_type": "code",
   "execution_count": 5,
   "metadata": {},
   "outputs": [
    {
     "name": "stderr",
     "output_type": "stream",
     "text": [
      "2022-07-02 22:16:36.870345: E tensorflow/stream_executor/cuda/cuda_driver.cc:271] failed call to cuInit: CUDA_ERROR_UNKNOWN: unknown error\n",
      "2022-07-02 22:16:36.870371: I tensorflow/stream_executor/cuda/cuda_diagnostics.cc:169] retrieving CUDA diagnostic information for host: tari-Nitro-AN515-56\n",
      "2022-07-02 22:16:36.870376: I tensorflow/stream_executor/cuda/cuda_diagnostics.cc:176] hostname: tari-Nitro-AN515-56\n",
      "2022-07-02 22:16:36.870478: I tensorflow/stream_executor/cuda/cuda_diagnostics.cc:200] libcuda reported version is: 470.129.6\n",
      "2022-07-02 22:16:36.870491: I tensorflow/stream_executor/cuda/cuda_diagnostics.cc:204] kernel reported version is: 470.129.6\n",
      "2022-07-02 22:16:36.870494: I tensorflow/stream_executor/cuda/cuda_diagnostics.cc:310] kernel version seems to match DSO: 470.129.6\n",
      "2022-07-02 22:16:36.871034: I tensorflow/core/platform/cpu_feature_guard.cc:193] This TensorFlow binary is optimized with oneAPI Deep Neural Network Library (oneDNN) to use the following CPU instructions in performance-critical operations:  AVX2 AVX512F AVX512_VNNI FMA\n",
      "To enable them in other operations, rebuild TensorFlow with the appropriate compiler flags.\n"
     ]
    },
    {
     "data": {
      "text/plain": [
       "<keras.callbacks.History at 0x7f4f7468eca0>"
      ]
     },
     "execution_count": 5,
     "metadata": {},
     "output_type": "execute_result"
    }
   ],
   "source": [
    "from pickletools import optimize\n",
    "from tabnanny import verbose\n",
    "\n",
    "\n",
    "tf.random.set_seed(42)\n",
    "#Modeling\n",
    "model = tf.keras.Sequential([\n",
    "    tf.keras.layers.Dense(1),\n",
    "    tf.keras.layers.Dense(1)\n",
    "])\n",
    "#Compile the model\n",
    "model.compile(\n",
    "    loss=tf.keras.losses.mae,\n",
    "    optimizer=tf.keras.optimizers.SGD(),\n",
    "    metrics=['mae']\n",
    ")\n",
    "\n",
    "#Fit the model\n",
    "model.fit(X_train, y_train, epochs=100, verbose = 0)"
   ]
  },
  {
   "cell_type": "code",
   "execution_count": 6,
   "metadata": {},
   "outputs": [
    {
     "name": "stdout",
     "output_type": "stream",
     "text": [
      "Loss: 8628.2373046875\n",
      "MAE: 8628.2373046875\n"
     ]
    }
   ],
   "source": [
    "loss,mae =  model.evaluate(X_test, y_test, verbose=0)\n",
    "print(f'Loss: {loss}')\n",
    "print(f'MAE: {mae}')"
   ]
  },
  {
   "cell_type": "markdown",
   "metadata": {},
   "source": [
    "## 2. Model with MSE"
   ]
  },
  {
   "cell_type": "code",
   "execution_count": 7,
   "metadata": {},
   "outputs": [
    {
     "data": {
      "text/plain": [
       "<keras.callbacks.History at 0x7f4f74458100>"
      ]
     },
     "execution_count": 7,
     "metadata": {},
     "output_type": "execute_result"
    }
   ],
   "source": [
    "from pickletools import optimize\n",
    "from tabnanny import verbose\n",
    "\n",
    "\n",
    "tf.random.set_seed(42)\n",
    "#Modeling\n",
    "model = tf.keras.Sequential([\n",
    "    tf.keras.layers.Dense(1),\n",
    "    tf.keras.layers.Dense(1)\n",
    "])\n",
    "#Compile the model\n",
    "model.compile(\n",
    "    loss=tf.keras.losses.mae,\n",
    "    optimizer=tf.keras.optimizers.SGD(),\n",
    "    metrics=['mse']\n",
    ")\n",
    "\n",
    "#Fit the model\n",
    "model.fit(X_train, y_train, epochs=100, verbose = 0)"
   ]
  },
  {
   "cell_type": "code",
   "execution_count": 8,
   "metadata": {},
   "outputs": [
    {
     "name": "stdout",
     "output_type": "stream",
     "text": [
      "Loss mae: 8628.2373046875\n",
      "MSE: 108074120.0\n"
     ]
    }
   ],
   "source": [
    "loss, mae =  model.evaluate(X_test, y_test, verbose=0)\n",
    "print(f'Loss mae: {loss}')\n",
    "print(f'MSE: {mae}')"
   ]
  },
  {
   "cell_type": "markdown",
   "metadata": {},
   "source": [
    "## 3. Model with R2"
   ]
  },
  {
   "cell_type": "code",
   "execution_count": 9,
   "metadata": {},
   "outputs": [],
   "source": [
    "from tensorflow_addons.metrics.r_square import RSquare\n",
    "import tensorflow_addons as tfa"
   ]
  },
  {
   "cell_type": "code",
   "execution_count": 10,
   "metadata": {},
   "outputs": [],
   "source": [
    "tb_callback = tf.keras.callbacks.TensorBoard('./logs', update_freq=1)\n"
   ]
  },
  {
   "cell_type": "code",
   "execution_count": 11,
   "metadata": {},
   "outputs": [
    {
     "data": {
      "text/plain": [
       "<keras.callbacks.History at 0x7f4f36694400>"
      ]
     },
     "execution_count": 11,
     "metadata": {},
     "output_type": "execute_result"
    }
   ],
   "source": [
    "# Modeling\n",
    "model = tf.keras.Sequential([\n",
    "    tf.keras.layers.Dense(100),\n",
    "    tf.keras.layers.Dense(10),\n",
    "    tf.keras.layers.Dense(5),\n",
    "    tf.keras.layers.Dense(1),\n",
    "])\n",
    "\n",
    "# Compile\n",
    "model.compile(\n",
    "    loss=tf.keras.losses.mae,\n",
    "    optimizer = tf.keras.optimizers.Adam(),\n",
    "    metrics=[tfa.metrics.r_square.RSquare()]\n",
    ")\n",
    "\n",
    "# Fit the model\n",
    "model.fit(X_train, y_train, epochs= 100, verbose=0, callbacks=[tb_callback])"
   ]
  },
  {
   "cell_type": "code",
   "execution_count": 12,
   "metadata": {},
   "outputs": [
    {
     "name": "stdout",
     "output_type": "stream",
     "text": [
      "9/9 [==============================] - 0s 1ms/step - loss: 3536.4995 - r_square: 0.7056\n"
     ]
    },
    {
     "data": {
      "text/plain": [
       "[3536.49951171875, 0.7055687308311462]"
      ]
     },
     "execution_count": 12,
     "metadata": {},
     "output_type": "execute_result"
    }
   ],
   "source": [
    "model.evaluate(X_test, y_test)"
   ]
  },
  {
   "cell_type": "markdown",
   "metadata": {},
   "source": [
    "# Tensorboard and Custom Early Stoping"
   ]
  },
  {
   "cell_type": "code",
   "execution_count": 1,
   "metadata": {},
   "outputs": [
    {
     "name": "stderr",
     "output_type": "stream",
     "text": [
      "2022-07-02 22:22:25.461107: I tensorflow/core/util/util.cc:169] oneDNN custom operations are on. You may see slightly different numerical results due to floating-point round-off errors from different computation orders. To turn them off, set the environment variable `TF_ENABLE_ONEDNN_OPTS=0`.\n"
     ]
    }
   ],
   "source": [
    "import tensorflow as tf\n",
    "import tensorflow_addons as tfa\n",
    "from tensorflow_addons.metrics.r_square import RSquare\n",
    "import pandas as pd"
   ]
  },
  {
   "cell_type": "code",
   "execution_count": 2,
   "metadata": {},
   "outputs": [],
   "source": [
    "data = pd.read_csv('dataset/real/insurance.csv')\n",
    "data.drop(columns=['Unnamed: 0'],inplace=True)\n",
    "# Turn all categories into numbers\n",
    "insurance_one_hot = pd.get_dummies(data)\n",
    "insurance_one_hot.head() # view the converted columns\n",
    "# Create X & y values\n",
    "X = insurance_one_hot.drop(\"charges\", axis=1)\n",
    "y = insurance_one_hot[\"charges\"]"
   ]
  },
  {
   "cell_type": "code",
   "execution_count": 3,
   "metadata": {},
   "outputs": [],
   "source": [
    "from sklearn.model_selection import train_test_split\n",
    "X_train, X_test, y_train, y_test = train_test_split(\n",
    "    X,\n",
    "    y,\n",
    "    test_size = 0.2,\n",
    "    random_state=42\n",
    ")"
   ]
  },
  {
   "cell_type": "code",
   "execution_count": 4,
   "metadata": {},
   "outputs": [],
   "source": [
    "class ErlyStopByR2(tf.keras.callbacks.Callback):\n",
    "    def __init__(self, patient=10):\n",
    "        super(tf.keras.callbacks.Callback, self).__init__()\n",
    "        self.patient = patient\n",
    "        self.best_weights = None\n",
    "        self.min_score = 0.0\n",
    "        self.curr_patient = 0\n",
    "    def on_epoch_end(self, epoch, logs={}):\n",
    "        val_score = logs['val_r_square']\n",
    "        if self.curr_patient > self.patient:\n",
    "            print(\"Epoch %05d: early stopping Threshold\" % epoch)\n",
    "            self.model.stop_training = True\n",
    "            self.model.set_weights(self.best_weights)\n",
    "        else:\n",
    "            if val_score > self.min_score:\n",
    "                print(f\"Improve from {self.min_score} to {val_score}\")\n",
    "                self.min_score = val_score\n",
    "                self.curr_patient = 0\n",
    "                self.best_weights = self.model.get_weights()\n",
    "            else:\n",
    "                self.curr_patient+=1"
   ]
  },
  {
   "cell_type": "code",
   "execution_count": 5,
   "metadata": {},
   "outputs": [],
   "source": [
    "tb_callback = tf.keras.callbacks.TensorBoard('./logs', update_freq=1)\n"
   ]
  },
  {
   "cell_type": "code",
   "execution_count": 6,
   "metadata": {},
   "outputs": [],
   "source": [
    "callbacks = [tb_callback,ErlyStopByR2(patient=20)]"
   ]
  },
  {
   "cell_type": "code",
   "execution_count": 7,
   "metadata": {},
   "outputs": [
    {
     "data": {
      "text/plain": [
       "((1070, 11), (1070,), (268, 11), (268,))"
      ]
     },
     "execution_count": 7,
     "metadata": {},
     "output_type": "execute_result"
    }
   ],
   "source": [
    "X_train.shape, y_train.shape,X_test.shape, y_test.shape"
   ]
  },
  {
   "cell_type": "code",
   "execution_count": 8,
   "metadata": {},
   "outputs": [
    {
     "name": "stderr",
     "output_type": "stream",
     "text": [
      "2022-07-02 22:22:29.622605: E tensorflow/stream_executor/cuda/cuda_driver.cc:271] failed call to cuInit: CUDA_ERROR_UNKNOWN: unknown error\n",
      "2022-07-02 22:22:29.622637: I tensorflow/stream_executor/cuda/cuda_diagnostics.cc:169] retrieving CUDA diagnostic information for host: tari-Nitro-AN515-56\n",
      "2022-07-02 22:22:29.622642: I tensorflow/stream_executor/cuda/cuda_diagnostics.cc:176] hostname: tari-Nitro-AN515-56\n",
      "2022-07-02 22:22:29.622767: I tensorflow/stream_executor/cuda/cuda_diagnostics.cc:200] libcuda reported version is: 470.129.6\n",
      "2022-07-02 22:22:29.622782: I tensorflow/stream_executor/cuda/cuda_diagnostics.cc:204] kernel reported version is: 470.129.6\n",
      "2022-07-02 22:22:29.622786: I tensorflow/stream_executor/cuda/cuda_diagnostics.cc:310] kernel version seems to match DSO: 470.129.6\n",
      "2022-07-02 22:22:29.623204: I tensorflow/core/platform/cpu_feature_guard.cc:193] This TensorFlow binary is optimized with oneAPI Deep Neural Network Library (oneDNN) to use the following CPU instructions in performance-critical operations:  AVX2 AVX512F AVX512_VNNI FMA\n",
      "To enable them in other operations, rebuild TensorFlow with the appropriate compiler flags.\n"
     ]
    },
    {
     "name": "stdout",
     "output_type": "stream",
     "text": [
      "Improve from 0.0 to 0.0027176737785339355\n",
      "Improve from 0.0027176737785339355 to 0.004666328430175781\n",
      "Improve from 0.004666328430175781 to 0.01914757490158081\n",
      "Improve from 0.01914757490158081 to 0.02573305368423462\n",
      "Improve from 0.02573305368423462 to 0.033097147941589355\n",
      "Improve from 0.033097147941589355 to 0.036992788314819336\n",
      "Improve from 0.036992788314819336 to 0.05334669351577759\n",
      "Improve from 0.05334669351577759 to 0.06021219491958618\n",
      "Improve from 0.06021219491958618 to 0.07775986194610596\n",
      "Improve from 0.07775986194610596 to 0.08365863561630249\n",
      "Improve from 0.08365863561630249 to 0.09537762403488159\n",
      "Improve from 0.09537762403488159 to 0.09616625308990479\n",
      "Improve from 0.09616625308990479 to 0.12277239561080933\n",
      "Improve from 0.12277239561080933 to 0.12346458435058594\n",
      "Improve from 0.12346458435058594 to 0.1353054642677307\n",
      "Improve from 0.1353054642677307 to 0.15635836124420166\n",
      "Improve from 0.15635836124420166 to 0.17430460453033447\n",
      "Improve from 0.17430460453033447 to 0.18830901384353638\n",
      "Improve from 0.18830901384353638 to 0.21043771505355835\n",
      "Improve from 0.21043771505355835 to 0.2400580644607544\n",
      "Improve from 0.2400580644607544 to 0.2522479295730591\n",
      "Improve from 0.2522479295730591 to 0.25622522830963135\n",
      "Improve from 0.25622522830963135 to 0.29054439067840576\n",
      "Improve from 0.29054439067840576 to 0.3113163709640503\n",
      "Improve from 0.3113163709640503 to 0.3391704559326172\n",
      "Improve from 0.3391704559326172 to 0.3784253001213074\n",
      "Improve from 0.3784253001213074 to 0.4101511836051941\n",
      "Improve from 0.4101511836051941 to 0.4316829442977905\n",
      "Improve from 0.4316829442977905 to 0.4794608950614929\n",
      "Improve from 0.4794608950614929 to 0.5078866481781006\n",
      "Improve from 0.5078866481781006 to 0.5619295835494995\n",
      "Improve from 0.5619295835494995 to 0.5986964702606201\n",
      "Improve from 0.5986964702606201 to 0.6129567623138428\n",
      "Improve from 0.6129567623138428 to 0.6185488104820251\n",
      "Improve from 0.6185488104820251 to 0.6455861926078796\n",
      "Improve from 0.6455861926078796 to 0.6583343148231506\n",
      "Improve from 0.6583343148231506 to 0.6620650291442871\n",
      "Improve from 0.6620650291442871 to 0.6635787487030029\n",
      "Improve from 0.6635787487030029 to 0.6843147873878479\n"
     ]
    }
   ],
   "source": [
    "# Modeling\n",
    "model = tf.keras.Sequential([\n",
    "    tf.keras.layers.Dense(100),\n",
    "    tf.keras.layers.Dense(10),\n",
    "    tf.keras.layers.Dense(5),\n",
    "    tf.keras.layers.Dense(1),\n",
    "])\n",
    "\n",
    "# Compile\n",
    "model.compile(\n",
    "    loss=tf.keras.losses.mae,\n",
    "    optimizer = tf.keras.optimizers.Adam(),\n",
    "    metrics=[RSquare()]\n",
    ")\n",
    "\n",
    "# Fit the model\n",
    "history = model.fit(X_train.values, y_train.values, epochs= 100, verbose=0,  validation_data=(X_test.values,y_test.values), callbacks=callbacks)"
   ]
  },
  {
   "cell_type": "code",
   "execution_count": 10,
   "metadata": {},
   "outputs": [],
   "source": [
    "import matplotlib.pyplot as plt"
   ]
  },
  {
   "cell_type": "code",
   "execution_count": 11,
   "metadata": {},
   "outputs": [
    {
     "data": {
      "text/plain": [
       "Text(0.5, 0, 'epochs')"
      ]
     },
     "execution_count": 11,
     "metadata": {},
     "output_type": "execute_result"
    },
    {
     "data": {
      "image/png": "[encoded data removed]",
      "text/plain": [
       "<Figure size 432x288 with 1 Axes>"
      ]
     },
     "metadata": {
      "needs_background": "light"
     },
     "output_type": "display_data"
    }
   ],
   "source": [
    "# Plot history (also known as a loss curve)\n",
    "pd.DataFrame(history.history).plot()\n",
    "plt.ylabel(\"loss\")\n",
    "plt.xlabel(\"epochs\")"
   ]
  },
  {
   "cell_type": "code",
   "execution_count": 12,
   "metadata": {},
   "outputs": [
    {
     "name": "stdout",
     "output_type": "stream",
     "text": [
      "9/9 [==============================] - 0s 868us/step - loss: 3608.7935 - r_square: 0.6713\n"
     ]
    }
   ],
   "source": [
    "# Evaulate 3rd model by metrics\n",
    "model_loss, model_r2 = model.evaluate(X_test, y_test)"
   ]
  },
  {
   "cell_type": "code",
   "execution_count": 23,
   "metadata": {},
   "outputs": [],
   "source": [
    "%load_ext tensorboard"
   ]
  },
  {
   "cell_type": "code",
   "execution_count": null,
   "metadata": {},
   "outputs": [],
   "source": []
  }
 ],
 "metadata": {
  "kernelspec": {
   "display_name": "Python 3.8.10 ('cer_tensorflow')",
   "language": "python",
   "name": "python3"
  },
  "language_info": {
   "codemirror_mode": {
    "name": "ipython",
    "version": 3
   },
   "file_extension": ".py",
   "mimetype": "text/x-python",
   "name": "python",
   "nbconvert_exporter": "python",
   "pygments_lexer": "ipython3",
   "version": "3.8.10"
  },
  "orig_nbformat": 4,
  "vscode": {
   "interpreter": {
    "hash": "e8a34d558487fb972886c2414a21f1669aa87ac468221abd21a5c7781ff27a8e"
   }
  }
 },
 "nbformat": 4,
 "nbformat_minor": 2
}
