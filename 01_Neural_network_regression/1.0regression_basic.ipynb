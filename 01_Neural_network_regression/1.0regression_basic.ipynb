{
 "cells": [
  {
   "cell_type": "code",
   "execution_count": 1,
   "metadata": {},
   "outputs": [
    {
     "name": "stderr",
     "output_type": "stream",
     "text": [
      "2022-07-02 17:20:59.514970: I tensorflow/core/util/util.cc:169] oneDNN custom operations are on. You may see slightly different numerical results due to floating-point round-off errors from different computation orders. To turn them off, set the environment variable `TF_ENABLE_ONEDNN_OPTS=0`.\n"
     ]
    }
   ],
   "source": [
    "import tensorflow as tf\n",
    "import pandas as pd\n",
    "import numpy as np\n",
    "# Set random seed\n",
    "tf.random.set_seed(42)"
   ]
  },
  {
   "cell_type": "code",
   "execution_count": 2,
   "metadata": {},
   "outputs": [],
   "source": [
    "df_train = pd.read_csv('dataset/basic/train.csv').dropna()\n",
    "df_test = pd.read_csv('dataset/basic/test.csv').dropna()"
   ]
  },
  {
   "cell_type": "code",
   "execution_count": 3,
   "metadata": {},
   "outputs": [],
   "source": [
    "X_train = df_train['x'].values\n",
    "y_train = df_train['y'].values\n",
    "X_test = df_test['x'].values\n",
    "y_test = df_test['y'].values"
   ]
  },
  {
   "cell_type": "code",
   "execution_count": 4,
   "metadata": {},
   "outputs": [
    {
     "name": "stderr",
     "output_type": "stream",
     "text": [
      "2022-07-02 17:21:00.979283: I tensorflow/stream_executor/cuda/cuda_gpu_executor.cc:975] successful NUMA node read from SysFS had negative value (-1), but there must be at least one NUMA node, so returning NUMA node zero\n",
      "2022-07-02 17:21:00.985001: I tensorflow/stream_executor/cuda/cuda_gpu_executor.cc:975] successful NUMA node read from SysFS had negative value (-1), but there must be at least one NUMA node, so returning NUMA node zero\n",
      "2022-07-02 17:21:00.985350: I tensorflow/stream_executor/cuda/cuda_gpu_executor.cc:975] successful NUMA node read from SysFS had negative value (-1), but there must be at least one NUMA node, so returning NUMA node zero\n",
      "2022-07-02 17:21:00.986274: I tensorflow/core/platform/cpu_feature_guard.cc:193] This TensorFlow binary is optimized with oneAPI Deep Neural Network Library (oneDNN) to use the following CPU instructions in performance-critical operations:  AVX2 AVX512F AVX512_VNNI FMA\n",
      "To enable them in other operations, rebuild TensorFlow with the appropriate compiler flags.\n",
      "2022-07-02 17:21:00.986670: I tensorflow/stream_executor/cuda/cuda_gpu_executor.cc:975] successful NUMA node read from SysFS had negative value (-1), but there must be at least one NUMA node, so returning NUMA node zero\n",
      "2022-07-02 17:21:00.987020: I tensorflow/stream_executor/cuda/cuda_gpu_executor.cc:975] successful NUMA node read from SysFS had negative value (-1), but there must be at least one NUMA node, so returning NUMA node zero\n",
      "2022-07-02 17:21:00.987281: I tensorflow/stream_executor/cuda/cuda_gpu_executor.cc:975] successful NUMA node read from SysFS had negative value (-1), but there must be at least one NUMA node, so returning NUMA node zero\n",
      "2022-07-02 17:21:01.392989: I tensorflow/stream_executor/cuda/cuda_gpu_executor.cc:975] successful NUMA node read from SysFS had negative value (-1), but there must be at least one NUMA node, so returning NUMA node zero\n",
      "2022-07-02 17:21:01.393283: I tensorflow/stream_executor/cuda/cuda_gpu_executor.cc:975] successful NUMA node read from SysFS had negative value (-1), but there must be at least one NUMA node, so returning NUMA node zero\n",
      "2022-07-02 17:21:01.393521: I tensorflow/stream_executor/cuda/cuda_gpu_executor.cc:975] successful NUMA node read from SysFS had negative value (-1), but there must be at least one NUMA node, so returning NUMA node zero\n",
      "2022-07-02 17:21:01.393785: I tensorflow/core/common_runtime/gpu/gpu_device.cc:1532] Created device /job:localhost/replica:0/task:0/device:GPU:0 with 2578 MB memory:  -> device: 0, name: NVIDIA GeForce GTX 1650, pci bus id: 0000:01:00.0, compute capability: 7.5\n"
     ]
    }
   ],
   "source": [
    "X_train_tensor = tf.constant(X_train)\n",
    "y_train_tensor = tf.constant(y_train)\n",
    "X_test_tensor = tf.constant(X_test)\n",
    "y_test_tensor = tf.constant(y_test)"
   ]
  },
  {
   "cell_type": "code",
   "execution_count": 5,
   "metadata": {},
   "outputs": [
    {
     "data": {
      "text/plain": [
       "<matplotlib.collections.PathCollection at 0x7f1dfa8d2280>"
      ]
     },
     "execution_count": 5,
     "metadata": {},
     "output_type": "execute_result"
    },
    {
     "data": {
      "image/png": "[encoded data removed]",
      "text/plain": [
       "<Figure size 432x288 with 1 Axes>"
      ]
     },
     "metadata": {
      "needs_background": "light"
     },
     "output_type": "display_data"
    }
   ],
   "source": [
    "import matplotlib.pyplot as plt\n",
    "plt.scatter(X_train_tensor, y_train_tensor)"
   ]
  },
  {
   "cell_type": "code",
   "execution_count": 6,
   "metadata": {},
   "outputs": [
    {
     "data": {
      "text/plain": [
       "(<tf.Tensor: shape=(), dtype=float64, numpy=24.0>,\n",
       " <tf.Tensor: shape=(), dtype=float64, numpy=21.54945196>)"
      ]
     },
     "execution_count": 6,
     "metadata": {},
     "output_type": "execute_result"
    }
   ],
   "source": [
    "X_train_tensor[0], y_train_tensor[0]"
   ]
  },
  {
   "cell_type": "code",
   "execution_count": 7,
   "metadata": {},
   "outputs": [
    {
     "data": {
      "text/plain": [
       "(TensorShape([699]), TensorShape([699]))"
      ]
     },
     "execution_count": 7,
     "metadata": {},
     "output_type": "execute_result"
    }
   ],
   "source": [
    "X_train_tensor.shape, y_train_tensor.shape"
   ]
  },
  {
   "cell_type": "code",
   "execution_count": 8,
   "metadata": {},
   "outputs": [
    {
     "name": "stdout",
     "output_type": "stream",
     "text": [
      "Epoch 1/100\n",
      "22/22 [==============================] - 1s 2ms/step - loss: 12.7361 - mse: 255.6815\n",
      "Epoch 2/100\n",
      "22/22 [==============================] - 0s 2ms/step - loss: 12.5894 - mse: 227.3688\n",
      "Epoch 3/100\n",
      "22/22 [==============================] - 0s 3ms/step - loss: 12.7450 - mse: 228.0048\n",
      "Epoch 4/100\n",
      "22/22 [==============================] - 0s 3ms/step - loss: 12.2027 - mse: 237.4910\n",
      "Epoch 5/100\n",
      "22/22 [==============================] - 0s 3ms/step - loss: 11.9560 - mse: 227.0982\n",
      "Epoch 6/100\n",
      "22/22 [==============================] - 0s 2ms/step - loss: 12.1284 - mse: 252.3360\n",
      "Epoch 7/100\n",
      "22/22 [==============================] - 0s 2ms/step - loss: 11.8329 - mse: 235.0145\n",
      "Epoch 8/100\n",
      "22/22 [==============================] - 0s 2ms/step - loss: 12.0631 - mse: 217.5796\n",
      "Epoch 9/100\n",
      "22/22 [==============================] - 0s 2ms/step - loss: 12.6177 - mse: 250.6751\n",
      "Epoch 10/100\n",
      "22/22 [==============================] - 0s 2ms/step - loss: 12.0927 - mse: 235.8459\n",
      "Epoch 11/100\n",
      "22/22 [==============================] - 0s 2ms/step - loss: 12.5394 - mse: 241.0283\n",
      "Epoch 12/100\n",
      "22/22 [==============================] - 0s 2ms/step - loss: 12.5771 - mse: 234.3052\n",
      "Epoch 13/100\n",
      "22/22 [==============================] - 0s 2ms/step - loss: 11.7660 - mse: 213.1642\n",
      "Epoch 14/100\n",
      "22/22 [==============================] - 0s 2ms/step - loss: 12.6785 - mse: 239.6707\n",
      "Epoch 15/100\n",
      "22/22 [==============================] - 0s 2ms/step - loss: 12.0907 - mse: 222.6317\n",
      "Epoch 16/100\n",
      "22/22 [==============================] - 0s 2ms/step - loss: 11.8947 - mse: 231.8362\n",
      "Epoch 17/100\n",
      "22/22 [==============================] - 0s 2ms/step - loss: 12.3274 - mse: 245.1769\n",
      "Epoch 18/100\n",
      "22/22 [==============================] - 0s 2ms/step - loss: 11.9046 - mse: 226.3932\n",
      "Epoch 19/100\n",
      "22/22 [==============================] - 0s 2ms/step - loss: 12.7043 - mse: 233.1575\n",
      "Epoch 20/100\n",
      "22/22 [==============================] - 0s 2ms/step - loss: 12.6400 - mse: 237.2899\n",
      "Epoch 21/100\n",
      "22/22 [==============================] - 0s 2ms/step - loss: 12.5872 - mse: 223.7056\n",
      "Epoch 22/100\n",
      "22/22 [==============================] - 0s 2ms/step - loss: 12.3092 - mse: 223.7874\n",
      "Epoch 23/100\n",
      "22/22 [==============================] - 0s 2ms/step - loss: 11.0197 - mse: 211.9561\n",
      "Epoch 24/100\n",
      "22/22 [==============================] - 0s 1ms/step - loss: 12.5999 - mse: 236.6228\n",
      "Epoch 25/100\n",
      "22/22 [==============================] - 0s 1ms/step - loss: 12.3054 - mse: 234.7962\n",
      "Epoch 26/100\n",
      "22/22 [==============================] - 0s 2ms/step - loss: 12.4564 - mse: 232.8432\n",
      "Epoch 27/100\n",
      "22/22 [==============================] - 0s 2ms/step - loss: 12.2418 - mse: 238.0708\n",
      "Epoch 28/100\n",
      "22/22 [==============================] - 0s 2ms/step - loss: 11.9041 - mse: 212.5878\n",
      "Epoch 29/100\n",
      "22/22 [==============================] - 0s 2ms/step - loss: 12.2717 - mse: 233.3011\n",
      "Epoch 30/100\n",
      "22/22 [==============================] - 0s 2ms/step - loss: 12.1592 - mse: 234.6368\n",
      "Epoch 31/100\n",
      "22/22 [==============================] - 0s 2ms/step - loss: 12.2509 - mse: 229.1434\n",
      "Epoch 32/100\n",
      "22/22 [==============================] - 0s 2ms/step - loss: 12.2900 - mse: 217.5753\n",
      "Epoch 33/100\n",
      "22/22 [==============================] - 0s 2ms/step - loss: 12.1988 - mse: 244.9991\n",
      "Epoch 34/100\n",
      "22/22 [==============================] - 0s 2ms/step - loss: 12.2179 - mse: 241.6355\n",
      "Epoch 35/100\n",
      "22/22 [==============================] - 0s 2ms/step - loss: 11.5670 - mse: 233.9643\n",
      "Epoch 36/100\n",
      "22/22 [==============================] - 0s 2ms/step - loss: 12.2866 - mse: 226.7267\n",
      "Epoch 37/100\n",
      "22/22 [==============================] - 0s 2ms/step - loss: 11.6960 - mse: 237.8658\n",
      "Epoch 38/100\n",
      "22/22 [==============================] - 0s 2ms/step - loss: 12.7271 - mse: 229.5395\n",
      "Epoch 39/100\n",
      "22/22 [==============================] - 0s 1ms/step - loss: 11.3187 - mse: 222.7044\n",
      "Epoch 40/100\n",
      "22/22 [==============================] - 0s 1ms/step - loss: 12.4512 - mse: 234.8130\n",
      "Epoch 41/100\n",
      "22/22 [==============================] - 0s 2ms/step - loss: 12.4187 - mse: 247.9290\n",
      "Epoch 42/100\n",
      "22/22 [==============================] - 0s 2ms/step - loss: 12.6498 - mse: 231.5880\n",
      "Epoch 43/100\n",
      "22/22 [==============================] - 0s 2ms/step - loss: 12.2188 - mse: 242.7083\n",
      "Epoch 44/100\n",
      "22/22 [==============================] - 0s 1ms/step - loss: 11.9198 - mse: 223.2871\n",
      "Epoch 45/100\n",
      "22/22 [==============================] - 0s 1ms/step - loss: 12.3330 - mse: 241.8620\n",
      "Epoch 46/100\n",
      "22/22 [==============================] - 0s 2ms/step - loss: 12.5619 - mse: 233.6837\n",
      "Epoch 47/100\n",
      "22/22 [==============================] - 0s 2ms/step - loss: 12.1763 - mse: 234.8943\n",
      "Epoch 48/100\n",
      "22/22 [==============================] - 0s 2ms/step - loss: 12.5488 - mse: 226.3145\n",
      "Epoch 49/100\n",
      "22/22 [==============================] - 0s 2ms/step - loss: 11.8392 - mse: 219.7066\n",
      "Epoch 50/100\n",
      "22/22 [==============================] - 0s 3ms/step - loss: 12.0642 - mse: 219.7107\n",
      "Epoch 51/100\n",
      "22/22 [==============================] - 0s 2ms/step - loss: 12.3889 - mse: 234.8841\n",
      "Epoch 52/100\n",
      "22/22 [==============================] - 0s 2ms/step - loss: 12.3285 - mse: 216.3538\n",
      "Epoch 53/100\n",
      "22/22 [==============================] - 0s 2ms/step - loss: 12.4638 - mse: 241.6273\n",
      "Epoch 54/100\n",
      "22/22 [==============================] - 0s 2ms/step - loss: 12.6329 - mse: 229.6817\n",
      "Epoch 55/100\n",
      "22/22 [==============================] - 0s 2ms/step - loss: 12.3726 - mse: 226.7803\n",
      "Epoch 56/100\n",
      "22/22 [==============================] - 0s 2ms/step - loss: 12.6484 - mse: 231.1889\n",
      "Epoch 57/100\n",
      "22/22 [==============================] - 0s 2ms/step - loss: 12.5626 - mse: 238.5588\n",
      "Epoch 58/100\n",
      "22/22 [==============================] - 0s 1ms/step - loss: 11.3772 - mse: 215.4857\n",
      "Epoch 59/100\n",
      "22/22 [==============================] - 0s 1ms/step - loss: 12.7608 - mse: 243.2753\n",
      "Epoch 60/100\n",
      "22/22 [==============================] - 0s 2ms/step - loss: 12.1450 - mse: 228.7762\n",
      "Epoch 61/100\n",
      "22/22 [==============================] - 0s 2ms/step - loss: 12.6095 - mse: 240.8319\n",
      "Epoch 62/100\n",
      "22/22 [==============================] - 0s 2ms/step - loss: 12.4463 - mse: 222.5141\n",
      "Epoch 63/100\n",
      "22/22 [==============================] - 0s 2ms/step - loss: 11.8791 - mse: 214.2498\n",
      "Epoch 64/100\n",
      "22/22 [==============================] - 0s 2ms/step - loss: 12.4610 - mse: 249.2887\n",
      "Epoch 65/100\n",
      "22/22 [==============================] - 0s 2ms/step - loss: 12.1638 - mse: 226.4306\n",
      "Epoch 66/100\n",
      "22/22 [==============================] - 0s 2ms/step - loss: 11.1235 - mse: 197.1010\n",
      "Epoch 67/100\n",
      "22/22 [==============================] - 0s 2ms/step - loss: 12.0273 - mse: 243.1162\n",
      "Epoch 68/100\n",
      "22/22 [==============================] - 0s 2ms/step - loss: 12.0267 - mse: 224.4867\n",
      "Epoch 69/100\n",
      "22/22 [==============================] - 0s 2ms/step - loss: 12.4056 - mse: 226.6740\n",
      "Epoch 70/100\n",
      "22/22 [==============================] - 0s 2ms/step - loss: 12.5461 - mse: 247.4800\n",
      "Epoch 71/100\n",
      "22/22 [==============================] - 0s 2ms/step - loss: 12.3918 - mse: 232.5832\n",
      "Epoch 72/100\n",
      "22/22 [==============================] - 0s 2ms/step - loss: 12.3149 - mse: 229.2781\n",
      "Epoch 73/100\n",
      "22/22 [==============================] - 0s 2ms/step - loss: 12.0769 - mse: 223.8444\n",
      "Epoch 74/100\n",
      "22/22 [==============================] - 0s 2ms/step - loss: 12.4043 - mse: 222.8580\n",
      "Epoch 75/100\n",
      "22/22 [==============================] - 0s 1ms/step - loss: 11.9135 - mse: 218.6489\n",
      "Epoch 76/100\n",
      "22/22 [==============================] - 0s 2ms/step - loss: 12.7300 - mse: 245.1638\n",
      "Epoch 77/100\n",
      "22/22 [==============================] - 0s 2ms/step - loss: 10.8625 - mse: 220.9513\n",
      "Epoch 78/100\n",
      "22/22 [==============================] - 0s 1ms/step - loss: 12.8555 - mse: 271.5057\n",
      "Epoch 79/100\n",
      "22/22 [==============================] - 0s 1ms/step - loss: 11.6207 - mse: 235.6484\n",
      "Epoch 80/100\n",
      "22/22 [==============================] - 0s 1ms/step - loss: 12.5215 - mse: 230.4324\n",
      "Epoch 81/100\n",
      "22/22 [==============================] - 0s 1ms/step - loss: 11.9533 - mse: 233.6744\n",
      "Epoch 82/100\n",
      "22/22 [==============================] - 0s 1ms/step - loss: 12.3156 - mse: 249.0513\n",
      "Epoch 83/100\n",
      "22/22 [==============================] - 0s 1ms/step - loss: 12.1057 - mse: 257.5743\n",
      "Epoch 84/100\n",
      "22/22 [==============================] - 0s 1ms/step - loss: 12.0090 - mse: 229.3884\n",
      "Epoch 85/100\n",
      "22/22 [==============================] - 0s 1ms/step - loss: 12.0967 - mse: 219.8743\n",
      "Epoch 86/100\n",
      "22/22 [==============================] - 0s 1ms/step - loss: 12.0086 - mse: 226.3559\n",
      "Epoch 87/100\n",
      "22/22 [==============================] - 0s 1ms/step - loss: 12.6990 - mse: 251.0353\n",
      "Epoch 88/100\n",
      "22/22 [==============================] - 0s 1ms/step - loss: 12.0058 - mse: 232.0746\n",
      "Epoch 89/100\n",
      "22/22 [==============================] - 0s 1ms/step - loss: 12.3026 - mse: 234.0928\n",
      "Epoch 90/100\n",
      "22/22 [==============================] - 0s 1ms/step - loss: 12.7841 - mse: 232.3698\n",
      "Epoch 91/100\n",
      "22/22 [==============================] - 0s 2ms/step - loss: 12.5147 - mse: 219.1744\n",
      "Epoch 92/100\n",
      "22/22 [==============================] - 0s 1ms/step - loss: 12.6630 - mse: 244.0739\n",
      "Epoch 93/100\n",
      "22/22 [==============================] - 0s 1ms/step - loss: 12.7105 - mse: 241.1492\n",
      "Epoch 94/100\n",
      "22/22 [==============================] - 0s 2ms/step - loss: 12.8184 - mse: 229.8425\n",
      "Epoch 95/100\n",
      "22/22 [==============================] - 0s 1ms/step - loss: 12.2287 - mse: 219.4248\n",
      "Epoch 96/100\n",
      "22/22 [==============================] - 0s 1ms/step - loss: 12.0420 - mse: 231.5147\n",
      "Epoch 97/100\n",
      "22/22 [==============================] - 0s 2ms/step - loss: 11.9346 - mse: 231.1480\n",
      "Epoch 98/100\n",
      "22/22 [==============================] - 0s 2ms/step - loss: 12.7049 - mse: 264.2009\n",
      "Epoch 99/100\n",
      "22/22 [==============================] - 0s 2ms/step - loss: 11.9491 - mse: 228.1338\n",
      "Epoch 100/100\n",
      "22/22 [==============================] - 0s 3ms/step - loss: 12.3219 - mse: 224.0755\n"
     ]
    },
    {
     "data": {
      "text/plain": [
       "<keras.callbacks.History at 0x7f1df46c47f0>"
      ]
     },
     "execution_count": 8,
     "metadata": {},
     "output_type": "execute_result"
    }
   ],
   "source": [
    "# Set random seed\n",
    "tf.random.set_seed(42)\n",
    "\n",
    "# Create a model using the Sequential API\n",
    "model = tf.keras.Sequential([\n",
    "  tf.keras.layers.Dense(1)\n",
    "])\n",
    "\n",
    "# Compile the model\n",
    "model.compile(loss=tf.keras.losses.mae, # mae is short for mean absolute error\n",
    "              optimizer=tf.keras.optimizers.SGD(), # SGD is short for stochastic gradient descent\n",
    "              metrics=[\"mse\"])\n",
    "# Fit the model\n",
    "# model.fit(X, y, epochs=5) # this will break with TensorFlow 2.7.0+\n",
    "model.fit(tf.expand_dims(X_train_tensor, axis=-1), y_train_tensor, epochs=100) #(700,) ---> (700, 1)"
   ]
  },
  {
   "cell_type": "code",
   "execution_count": 9,
   "metadata": {},
   "outputs": [
    {
     "name": "stdout",
     "output_type": "stream",
     "text": [
      "1/1 [==============================] - 0s 65ms/step\n"
     ]
    },
    {
     "data": {
      "text/plain": [
       "array([[18.28493]], dtype=float32)"
      ]
     },
     "execution_count": 9,
     "metadata": {},
     "output_type": "execute_result"
    }
   ],
   "source": [
    "model.predict([20.0]) "
   ]
  },
  {
   "cell_type": "code",
   "execution_count": 10,
   "metadata": {},
   "outputs": [
    {
     "data": {
      "text/plain": [
       "<keras.callbacks.History at 0x7f1df46c4400>"
      ]
     },
     "execution_count": 10,
     "metadata": {},
     "output_type": "execute_result"
    }
   ],
   "source": [
    "# verbose = 0 ==> not show training process\n",
    "model.fit(X_train, y_train, epochs=100, verbose=0)"
   ]
  },
  {
   "cell_type": "code",
   "execution_count": 11,
   "metadata": {},
   "outputs": [
    {
     "name": "stdout",
     "output_type": "stream",
     "text": [
      "You must install pydot (`pip install pydot`) and install graphviz (see instructions at https://graphviz.gitlab.io/download/) for plot_model/model_to_dot to work.\n"
     ]
    }
   ],
   "source": [
    "from tensorflow.keras.utils import plot_model\n",
    "\n",
    "plot_model(model, show_shapes=True)"
   ]
  },
  {
   "cell_type": "code",
   "execution_count": 12,
   "metadata": {},
   "outputs": [],
   "source": [
    "def plot_predictions(X_train, y_train, X_test, y_test, prediction):\n",
    "        plt.figure(figsize=(10, 7))\n",
    "        # Plot training data in blue\n",
    "        plt.scatter(X_train, y_train, c=\"b\", label=\"Training data\")\n",
    "        # Plot test data in green\n",
    "        plt.scatter(X_test, y_test, c=\"g\", label=\"Testing data\")\n",
    "        # Plot the predictions in red (predictions were made on the test data)\n",
    "        plt.scatter(X_test, prediction, c=\"r\", label=\"Predictions\")\n",
    "        # Show the legend\n",
    "        plt.legend()"
   ]
  },
  {
   "cell_type": "code",
   "execution_count": 13,
   "metadata": {},
   "outputs": [
    {
     "name": "stdout",
     "output_type": "stream",
     "text": [
      "10/10 [==============================] - 0s 2ms/step\n"
     ]
    }
   ],
   "source": [
    "prediction = model.predict(X_test_tensor)"
   ]
  },
  {
   "cell_type": "code",
   "execution_count": 15,
   "metadata": {},
   "outputs": [
    {
     "data": {
      "image/png": "[encoded data removed]",
      "text/plain": [
       "<Figure size 720x504 with 1 Axes>"
      ]
     },
     "metadata": {
      "needs_background": "light"
     },
     "output_type": "display_data"
    }
   ],
   "source": [
    "plot_predictions(\n",
    "    X_train=X_train_tensor,\n",
    "    y_train=y_train_tensor,\n",
    "    X_test=X_test_tensor,\n",
    "    y_test=y_test_tensor,\n",
    "    prediction=prediction\n",
    ")"
   ]
  },
  {
   "cell_type": "code",
   "execution_count": 16,
   "metadata": {},
   "outputs": [
    {
     "name": "stdout",
     "output_type": "stream",
     "text": [
      "10/10 [==============================] - 0s 1ms/step - loss: 5.4825 - mse: 42.3723\n"
     ]
    },
    {
     "data": {
      "text/plain": [
       "[5.482484340667725, 42.37234878540039]"
      ]
     },
     "execution_count": 16,
     "metadata": {},
     "output_type": "execute_result"
    }
   ],
   "source": [
    "model.evaluate(X_test_tensor, y_test_tensor)"
   ]
  },
  {
   "cell_type": "code",
   "execution_count": 17,
   "metadata": {},
   "outputs": [
    {
     "data": {
      "text/plain": [
       "<tf.Tensor: shape=(300,), dtype=float32, numpy=\n",
       "array([28.458525, 35.53989 , 34.98989 , 36.11358 , 28.713795, 39.337566,\n",
       "       24.849802, 37.84422 , 36.11358 , 47.14174 , 47.991886, 36.707047,\n",
       "       38.46361 , 24.849802, 28.713795, 39.337566, 25.196325, 40.036896,\n",
       "       33.11423 , 25.990873, 34.244934, 25.117302, 34.244934, 32.441296,\n",
       "       39.096027, 24.639938, 29.288525, 35.53989 , 36.615494, 32.441296,\n",
       "       40.40157 , 30.669683, 29.85088 , 29.713596, 31.972141, 25.740019,\n",
       "       24.892862, 25.990873, 31.972141, 29.85088 , 35.416958, 26.50702 ,\n",
       "       25.259737, 28.070976, 47.991886, 28.355019, 26.240105, 25.762312,\n",
       "       27.37558 , 29.079453, 37.224827, 33.67412 , 24.99367 , 30.669683,\n",
       "       24.663694, 51.43863 , 27.68867 , 25.070654, 25.990873, 24.6383  ,\n",
       "       40.758816, 26.787138, 28.070976, 24.772356, 30.601618, 37.34187 ,\n",
       "       27.08286 , 25.259737, 24.731953, 40.758816, 25.915045, 40.758816,\n",
       "       29.288525, 24.892862, 39.337566, 31.972141, 30.151329, 25.990873,\n",
       "       24.99367 , 31.57029 , 25.762312, 32.441296, 24.67585 , 25.574863,\n",
       "       27.37558 , 27.68867 , 30.601618, 41.08511 , 24.663694, 26.5533  ,\n",
       "       25.548536, 28.012213, 24.950857, 35.416958, 24.711636, 40.036896,\n",
       "       35.53989 , 33.11423 , 27.072548, 30.25632 , 49.705753, 30.601618,\n",
       "       36.707047, 27.36787 , 26.805944, 41.4966  , 50.56805 , 34.827923,\n",
       "       34.244934, 51.43863 , 27.08286 , 38.65778 , 37.224827, 39.096027,\n",
       "       25.357376, 33.92989 , 37.992653, 34.827923, 40.758816, 51.43863 ,\n",
       "       25.070654, 38.46361 , 39.73959 , 41.4966  , 27.08286 , 25.740019,\n",
       "       28.864206, 36.11358 , 34.244934, 31.520481, 25.070654, 27.704473,\n",
       "       41.4966  , 33.425873, 31.972141, 31.090313, 25.196325, 24.663694,\n",
       "       25.070654, 24.892862, 26.50702 , 39.096027, 27.072548, 43.82921 ,\n",
       "       41.4966  , 24.950857, 40.40157 , 24.711636, 29.079453, 49.705753,\n",
       "       24.711636, 30.25632 , 37.224827, 31.57029 , 24.950857, 34.98989 ,\n",
       "       30.151329, 36.615494, 29.85088 , 45.462193, 26.805944, 25.915045,\n",
       "       24.808834, 38.65778 , 25.412895, 26.5533  , 37.84422 , 25.357376,\n",
       "       35.53989 , 29.079453, 29.713596, 28.355019, 24.808834, 24.67585 ,\n",
       "       50.56805 , 30.25632 , 24.639938, 30.25632 , 25.915045, 26.787138,\n",
       "       37.992653, 39.096027, 36.615494, 35.416958, 28.355019, 47.991886,\n",
       "       24.808834, 25.117302, 32.441296, 25.915045, 36.01122 , 27.072548,\n",
       "       28.458525, 35.416958, 24.772356, 40.40157 , 47.991886, 26.787138,\n",
       "       36.707047, 24.6383  , 28.864206, 32.924942, 27.36787 , 34.827923,\n",
       "       25.357376, 40.758816, 27.37558 , 28.458525, 25.548536, 27.704473,\n",
       "       34.455513, 26.11488 , 24.663694, 26.324615, 34.455513, 24.731953,\n",
       "       24.731953, 37.84422 , 41.4966  , 47.991886, 45.462193, 41.08511 ,\n",
       "       25.574863, 26.805944, 38.46361 , 27.68867 , 41.08511 , 33.11423 ,\n",
       "       40.036896, 40.036896, 28.355019, 47.14174 , 33.67412 , 35.416958,\n",
       "       25.196325, 27.36787 , 24.67585 , 38.65778 , 47.14174 , 31.972141,\n",
       "       36.01122 , 25.915045, 24.808834, 27.68867 , 26.324615, 30.669683,\n",
       "       25.762312, 32.576706, 34.827923, 28.012213, 35.53989 , 37.84422 ,\n",
       "       24.67585 , 24.711636, 25.196325, 28.864206, 34.244934, 46.291626,\n",
       "       25.548536, 28.713795, 38.65778 , 41.08511 , 26.11488 , 27.072548,\n",
       "       24.6383  , 36.11358 , 28.070976, 29.457272, 24.731953, 26.787138,\n",
       "       24.731953, 44.642403, 24.67585 , 26.787138, 24.639938, 46.291626,\n",
       "       38.46361 , 34.455513, 24.639938, 34.455513, 36.707047, 33.425873,\n",
       "       25.070654, 35.53989 , 24.663694, 36.707047, 38.65778 , 26.805944,\n",
       "       26.5533  , 24.772356, 36.01122 , 42.25028 , 27.08286 , 50.56805 ,\n",
       "       44.642403, 26.50702 , 25.915045, 24.731953, 24.849802, 25.740019],\n",
       "      dtype=float32)>"
      ]
     },
     "execution_count": 17,
     "metadata": {},
     "output_type": "execute_result"
    }
   ],
   "source": [
    "# Calculate the mean absolute error\n",
    "mae = tf.metrics.mean_absolute_error(y_true=y_test_tensor, \n",
    "                                     y_pred=prediction)\n",
    "mae"
   ]
  },
  {
   "cell_type": "code",
   "execution_count": 18,
   "metadata": {},
   "outputs": [
    {
     "data": {
      "text/plain": [
       "(TensorShape([300]), (300, 1))"
      ]
     },
     "execution_count": 18,
     "metadata": {},
     "output_type": "execute_result"
    }
   ],
   "source": [
    "y_test_tensor.shape, prediction.shape"
   ]
  },
  {
   "cell_type": "code",
   "execution_count": 20,
   "metadata": {},
   "outputs": [
    {
     "data": {
      "text/plain": [
       "<tf.Tensor: shape=(), dtype=float32, numpy=5.4824843>"
      ]
     },
     "execution_count": 20,
     "metadata": {},
     "output_type": "execute_result"
    }
   ],
   "source": [
    "# Calcuate the MAE\n",
    "mae = tf.metrics.mean_absolute_error(y_true=y_test, \n",
    "                                     y_pred=prediction.squeeze()) # use squeeze() to make same shape\n",
    "mae"
   ]
  },
  {
   "cell_type": "code",
   "execution_count": 22,
   "metadata": {},
   "outputs": [
    {
     "data": {
      "text/plain": [
       "(300,)"
      ]
     },
     "execution_count": 22,
     "metadata": {},
     "output_type": "execute_result"
    }
   ],
   "source": [
    "prediction.squeeze().shape"
   ]
  },
  {
   "cell_type": "code",
   "execution_count": 24,
   "metadata": {},
   "outputs": [
    {
     "data": {
      "text/plain": [
       "<tf.Tensor: shape=(), dtype=float64, numpy=5.4824849792065065>"
      ]
     },
     "execution_count": 24,
     "metadata": {},
     "output_type": "execute_result"
    }
   ],
   "source": [
    "tf.reduce_mean(tf.abs(y_test-prediction.squeeze()))"
   ]
  },
  {
   "cell_type": "code",
   "execution_count": 25,
   "metadata": {},
   "outputs": [],
   "source": [
    "def mae(y_test, y_pred):\n",
    "  \"\"\"\n",
    "  Calculuates mean absolute error between y_test and y_preds.\n",
    "  \"\"\"\n",
    "  return tf.metrics.mean_absolute_error(y_test,\n",
    "                                        y_pred)\n",
    "  \n",
    "def mse(y_test, y_pred):\n",
    "  \"\"\"\n",
    "  Calculates mean squared error between y_test and y_preds.\n",
    "  \"\"\"\n",
    "  return tf.metrics.mean_squared_error(y_test,\n",
    "                                       y_pred)"
   ]
  },
  {
   "cell_type": "markdown",
   "metadata": {},
   "source": [
    "# Improve model"
   ]
  },
  {
   "cell_type": "code",
   "execution_count": 26,
   "metadata": {},
   "outputs": [
    {
     "name": "stdout",
     "output_type": "stream",
     "text": [
      "Epoch 1/100\n",
      "22/22 [==============================] - 0s 2ms/step - loss: 12.7361 - mae: 12.7361\n",
      "Epoch 2/100\n",
      "22/22 [==============================] - 0s 2ms/step - loss: 12.5894 - mae: 12.5894\n",
      "Epoch 3/100\n",
      "22/22 [==============================] - 0s 2ms/step - loss: 12.7450 - mae: 12.7450\n",
      "Epoch 4/100\n",
      "22/22 [==============================] - 0s 2ms/step - loss: 12.2027 - mae: 12.2027\n",
      "Epoch 5/100\n",
      "22/22 [==============================] - 0s 2ms/step - loss: 11.9560 - mae: 11.9560\n",
      "Epoch 6/100\n",
      "22/22 [==============================] - 0s 2ms/step - loss: 12.1284 - mae: 12.1284\n",
      "Epoch 7/100\n",
      "22/22 [==============================] - 0s 2ms/step - loss: 11.8329 - mae: 11.8329\n",
      "Epoch 8/100\n",
      "22/22 [==============================] - 0s 2ms/step - loss: 12.0631 - mae: 12.0631\n",
      "Epoch 9/100\n",
      "22/22 [==============================] - 0s 2ms/step - loss: 12.6177 - mae: 12.6177\n",
      "Epoch 10/100\n",
      "22/22 [==============================] - 0s 2ms/step - loss: 12.0927 - mae: 12.0927\n",
      "Epoch 11/100\n",
      "22/22 [==============================] - 0s 2ms/step - loss: 12.5394 - mae: 12.5394\n",
      "Epoch 12/100\n",
      "22/22 [==============================] - 0s 2ms/step - loss: 12.5771 - mae: 12.5771\n",
      "Epoch 13/100\n",
      "22/22 [==============================] - 0s 2ms/step - loss: 11.7660 - mae: 11.7660\n",
      "Epoch 14/100\n",
      "22/22 [==============================] - 0s 2ms/step - loss: 12.6785 - mae: 12.6785\n",
      "Epoch 15/100\n",
      "22/22 [==============================] - 0s 2ms/step - loss: 12.0907 - mae: 12.0907\n",
      "Epoch 16/100\n",
      "22/22 [==============================] - 0s 2ms/step - loss: 11.8947 - mae: 11.8947\n",
      "Epoch 17/100\n",
      "22/22 [==============================] - 0s 2ms/step - loss: 12.3274 - mae: 12.3274\n",
      "Epoch 18/100\n",
      "22/22 [==============================] - 0s 2ms/step - loss: 11.9046 - mae: 11.9046\n",
      "Epoch 19/100\n",
      "22/22 [==============================] - 0s 2ms/step - loss: 12.7043 - mae: 12.7043\n",
      "Epoch 20/100\n",
      "22/22 [==============================] - 0s 2ms/step - loss: 12.6400 - mae: 12.6400\n",
      "Epoch 21/100\n",
      "22/22 [==============================] - 0s 2ms/step - loss: 12.5872 - mae: 12.5872\n",
      "Epoch 22/100\n",
      "22/22 [==============================] - 0s 2ms/step - loss: 12.3092 - mae: 12.3092\n",
      "Epoch 23/100\n",
      "22/22 [==============================] - 0s 2ms/step - loss: 11.0197 - mae: 11.0197\n",
      "Epoch 24/100\n",
      "22/22 [==============================] - 0s 2ms/step - loss: 12.5999 - mae: 12.5999\n",
      "Epoch 25/100\n",
      "22/22 [==============================] - 0s 2ms/step - loss: 12.3054 - mae: 12.3054\n",
      "Epoch 26/100\n",
      "22/22 [==============================] - 0s 3ms/step - loss: 12.4564 - mae: 12.4564\n",
      "Epoch 27/100\n",
      "22/22 [==============================] - 0s 2ms/step - loss: 12.2418 - mae: 12.2418\n",
      "Epoch 28/100\n",
      "22/22 [==============================] - 0s 3ms/step - loss: 11.9041 - mae: 11.9041\n",
      "Epoch 29/100\n",
      "22/22 [==============================] - 0s 4ms/step - loss: 12.2717 - mae: 12.2717\n",
      "Epoch 30/100\n",
      "22/22 [==============================] - 0s 4ms/step - loss: 12.1592 - mae: 12.1592\n",
      "Epoch 31/100\n",
      "22/22 [==============================] - 0s 3ms/step - loss: 12.2509 - mae: 12.2509\n",
      "Epoch 32/100\n",
      "22/22 [==============================] - 0s 4ms/step - loss: 12.2900 - mae: 12.2900\n",
      "Epoch 33/100\n",
      "22/22 [==============================] - 0s 3ms/step - loss: 12.1988 - mae: 12.1988\n",
      "Epoch 34/100\n",
      "22/22 [==============================] - 0s 3ms/step - loss: 12.2179 - mae: 12.2179\n",
      "Epoch 35/100\n",
      "22/22 [==============================] - 0s 4ms/step - loss: 11.5670 - mae: 11.5670\n",
      "Epoch 36/100\n",
      "22/22 [==============================] - 0s 3ms/step - loss: 12.2866 - mae: 12.2866\n",
      "Epoch 37/100\n",
      "22/22 [==============================] - 0s 3ms/step - loss: 11.6960 - mae: 11.6960\n",
      "Epoch 38/100\n",
      "22/22 [==============================] - 0s 3ms/step - loss: 12.7271 - mae: 12.7271\n",
      "Epoch 39/100\n",
      "22/22 [==============================] - 0s 5ms/step - loss: 11.3187 - mae: 11.3187\n",
      "Epoch 40/100\n",
      "22/22 [==============================] - 0s 4ms/step - loss: 12.4512 - mae: 12.4512\n",
      "Epoch 41/100\n",
      "22/22 [==============================] - 0s 3ms/step - loss: 12.4187 - mae: 12.4187\n",
      "Epoch 42/100\n",
      "22/22 [==============================] - 0s 3ms/step - loss: 12.6498 - mae: 12.6498\n",
      "Epoch 43/100\n",
      "22/22 [==============================] - 0s 7ms/step - loss: 12.2188 - mae: 12.2188\n",
      "Epoch 44/100\n",
      "22/22 [==============================] - 0s 4ms/step - loss: 11.9198 - mae: 11.9198\n",
      "Epoch 45/100\n",
      "22/22 [==============================] - 0s 3ms/step - loss: 12.3330 - mae: 12.3330\n",
      "Epoch 46/100\n",
      "22/22 [==============================] - 0s 5ms/step - loss: 12.5619 - mae: 12.5619\n",
      "Epoch 47/100\n",
      "22/22 [==============================] - 0s 3ms/step - loss: 12.1763 - mae: 12.1763\n",
      "Epoch 48/100\n",
      "22/22 [==============================] - 0s 3ms/step - loss: 12.5488 - mae: 12.5488\n",
      "Epoch 49/100\n",
      "22/22 [==============================] - 0s 2ms/step - loss: 11.8392 - mae: 11.8392\n",
      "Epoch 50/100\n",
      "22/22 [==============================] - 0s 2ms/step - loss: 12.0642 - mae: 12.0642\n",
      "Epoch 51/100\n",
      "22/22 [==============================] - 0s 2ms/step - loss: 12.3889 - mae: 12.3889\n",
      "Epoch 52/100\n",
      "22/22 [==============================] - 0s 2ms/step - loss: 12.3285 - mae: 12.3285\n",
      "Epoch 53/100\n",
      "22/22 [==============================] - 0s 2ms/step - loss: 12.4638 - mae: 12.4638\n",
      "Epoch 54/100\n",
      "22/22 [==============================] - 0s 2ms/step - loss: 12.6329 - mae: 12.6329\n",
      "Epoch 55/100\n",
      "22/22 [==============================] - 0s 2ms/step - loss: 12.3726 - mae: 12.3726\n",
      "Epoch 56/100\n",
      "22/22 [==============================] - 0s 2ms/step - loss: 12.6484 - mae: 12.6484\n",
      "Epoch 57/100\n",
      "22/22 [==============================] - 0s 2ms/step - loss: 12.5626 - mae: 12.5626\n",
      "Epoch 58/100\n",
      "22/22 [==============================] - 0s 2ms/step - loss: 11.3772 - mae: 11.3772\n",
      "Epoch 59/100\n",
      "22/22 [==============================] - 0s 3ms/step - loss: 12.7608 - mae: 12.7608\n",
      "Epoch 60/100\n",
      "22/22 [==============================] - 0s 2ms/step - loss: 12.1450 - mae: 12.1450\n",
      "Epoch 61/100\n",
      "22/22 [==============================] - 0s 2ms/step - loss: 12.6095 - mae: 12.6095\n",
      "Epoch 62/100\n",
      "22/22 [==============================] - 0s 2ms/step - loss: 12.4463 - mae: 12.4463\n",
      "Epoch 63/100\n",
      "22/22 [==============================] - 0s 2ms/step - loss: 11.8791 - mae: 11.8791\n",
      "Epoch 64/100\n",
      "22/22 [==============================] - 0s 3ms/step - loss: 12.4610 - mae: 12.4610\n",
      "Epoch 65/100\n",
      "22/22 [==============================] - 0s 2ms/step - loss: 12.1638 - mae: 12.1638\n",
      "Epoch 66/100\n",
      "22/22 [==============================] - 0s 2ms/step - loss: 11.1235 - mae: 11.1235\n",
      "Epoch 67/100\n",
      "22/22 [==============================] - 0s 2ms/step - loss: 12.0273 - mae: 12.0273\n",
      "Epoch 68/100\n",
      "22/22 [==============================] - 0s 2ms/step - loss: 12.0267 - mae: 12.0267\n",
      "Epoch 69/100\n",
      "22/22 [==============================] - 0s 2ms/step - loss: 12.4056 - mae: 12.4056\n",
      "Epoch 70/100\n",
      "22/22 [==============================] - 0s 2ms/step - loss: 12.5461 - mae: 12.5461\n",
      "Epoch 71/100\n",
      "22/22 [==============================] - 0s 3ms/step - loss: 12.3918 - mae: 12.3918\n",
      "Epoch 72/100\n",
      "22/22 [==============================] - 0s 2ms/step - loss: 12.3149 - mae: 12.3149\n",
      "Epoch 73/100\n",
      "22/22 [==============================] - 0s 2ms/step - loss: 12.0769 - mae: 12.0769\n",
      "Epoch 74/100\n",
      "22/22 [==============================] - 0s 2ms/step - loss: 12.4043 - mae: 12.4043\n",
      "Epoch 75/100\n",
      "22/22 [==============================] - 0s 1ms/step - loss: 11.9135 - mae: 11.9135\n",
      "Epoch 76/100\n",
      "22/22 [==============================] - 0s 1ms/step - loss: 12.7300 - mae: 12.7300\n",
      "Epoch 77/100\n",
      "22/22 [==============================] - 0s 2ms/step - loss: 10.8625 - mae: 10.8625\n",
      "Epoch 78/100\n",
      "22/22 [==============================] - 0s 2ms/step - loss: 12.8555 - mae: 12.8555\n",
      "Epoch 79/100\n",
      "22/22 [==============================] - 0s 2ms/step - loss: 11.6207 - mae: 11.6207\n",
      "Epoch 80/100\n",
      "22/22 [==============================] - 0s 2ms/step - loss: 12.5215 - mae: 12.5215\n",
      "Epoch 81/100\n",
      "22/22 [==============================] - 0s 2ms/step - loss: 11.9533 - mae: 11.9533\n",
      "Epoch 82/100\n",
      "22/22 [==============================] - 0s 3ms/step - loss: 12.3156 - mae: 12.3156\n",
      "Epoch 83/100\n",
      "22/22 [==============================] - 0s 3ms/step - loss: 12.1057 - mae: 12.1057\n",
      "Epoch 84/100\n",
      "22/22 [==============================] - 0s 3ms/step - loss: 12.0090 - mae: 12.0090\n",
      "Epoch 85/100\n",
      "22/22 [==============================] - 0s 2ms/step - loss: 12.0967 - mae: 12.0967\n",
      "Epoch 86/100\n",
      "22/22 [==============================] - 0s 2ms/step - loss: 12.0086 - mae: 12.0086\n",
      "Epoch 87/100\n",
      "22/22 [==============================] - 0s 1ms/step - loss: 12.6990 - mae: 12.6990\n",
      "Epoch 88/100\n",
      "22/22 [==============================] - 0s 2ms/step - loss: 12.0058 - mae: 12.0058\n",
      "Epoch 89/100\n",
      "22/22 [==============================] - 0s 2ms/step - loss: 12.3026 - mae: 12.3026\n",
      "Epoch 90/100\n",
      "22/22 [==============================] - 0s 1ms/step - loss: 12.7841 - mae: 12.7841\n",
      "Epoch 91/100\n",
      "22/22 [==============================] - 0s 2ms/step - loss: 12.5147 - mae: 12.5147\n",
      "Epoch 92/100\n",
      "22/22 [==============================] - 0s 1ms/step - loss: 12.6630 - mae: 12.6630\n",
      "Epoch 93/100\n",
      "22/22 [==============================] - 0s 2ms/step - loss: 12.7105 - mae: 12.7105\n",
      "Epoch 94/100\n",
      "22/22 [==============================] - 0s 2ms/step - loss: 12.8184 - mae: 12.8184\n",
      "Epoch 95/100\n",
      "22/22 [==============================] - 0s 2ms/step - loss: 12.2287 - mae: 12.2287\n",
      "Epoch 96/100\n",
      "22/22 [==============================] - 0s 1ms/step - loss: 12.0420 - mae: 12.0420\n",
      "Epoch 97/100\n",
      "22/22 [==============================] - 0s 1ms/step - loss: 11.9346 - mae: 11.9346\n",
      "Epoch 98/100\n",
      "22/22 [==============================] - 0s 1ms/step - loss: 12.7049 - mae: 12.7049\n",
      "Epoch 99/100\n",
      "22/22 [==============================] - 0s 2ms/step - loss: 11.9491 - mae: 11.9491\n",
      "Epoch 100/100\n",
      "22/22 [==============================] - 0s 2ms/step - loss: 12.3219 - mae: 12.3219\n"
     ]
    },
    {
     "data": {
      "text/plain": [
       "<keras.callbacks.History at 0x7f1dd3754670>"
      ]
     },
     "execution_count": 26,
     "metadata": {},
     "output_type": "execute_result"
    }
   ],
   "source": [
    "# Set random seed\n",
    "tf.random.set_seed(42)\n",
    "\n",
    "# Replicate original model\n",
    "model_1 = tf.keras.Sequential([\n",
    "  tf.keras.layers.Dense(1)\n",
    "])\n",
    "\n",
    "# Compile the model\n",
    "model_1.compile(loss=tf.keras.losses.mae,\n",
    "                optimizer=tf.keras.optimizers.SGD(),\n",
    "                metrics=['mae'])\n",
    "\n",
    "# Fit the model\n",
    "model_1.fit(tf.expand_dims(X_train, axis=-1), y_train, epochs=100)"
   ]
  },
  {
   "cell_type": "code",
   "execution_count": 35,
   "metadata": {},
   "outputs": [
    {
     "name": "stdout",
     "output_type": "stream",
     "text": [
      "10/10 [==============================] - 0s 941us/step\n"
     ]
    }
   ],
   "source": [
    "y_predict_test = model_1.predict(X_test_tensor)"
   ]
  },
  {
   "cell_type": "code",
   "execution_count": 36,
   "metadata": {},
   "outputs": [
    {
     "data": {
      "text/plain": [
       "(5.1108675, 37.19203)"
      ]
     },
     "execution_count": 36,
     "metadata": {},
     "output_type": "execute_result"
    }
   ],
   "source": [
    "# Calculate model_1 metrics\n",
    "mae_1 = mae(y_test_tensor, y_predict_test.squeeze()).numpy()\n",
    "mse_1 = mse(y_test_tensor, y_predict_test.squeeze()).numpy()\n",
    "mae_1, mse_1"
   ]
  },
  {
   "cell_type": "markdown",
   "metadata": {},
   "source": [
    "## Model 2"
   ]
  },
  {
   "cell_type": "code",
   "execution_count": 39,
   "metadata": {},
   "outputs": [
    {
     "data": {
      "text/plain": [
       "<keras.callbacks.History at 0x7f1dd36c2af0>"
      ]
     },
     "execution_count": 39,
     "metadata": {},
     "output_type": "execute_result"
    }
   ],
   "source": [
    "model_2 = tf.keras.Sequential([\n",
    "    tf.keras.layers.Dense(1),\n",
    "    tf.keras.layers.Dense(1)\n",
    "])\n",
    "# Compile the model\n",
    "model_2.compile(loss=tf.keras.losses.mae,\n",
    "                optimizer=tf.keras.optimizers.SGD(),\n",
    "                metrics=['mae'])\n",
    "\n",
    "# Fit the model\n",
    "model_2.fit(tf.expand_dims(X_train_tensor, axis=-1), y_train_tensor, epochs=100, verbose=0)\n"
   ]
  },
  {
   "cell_type": "code",
   "execution_count": 40,
   "metadata": {},
   "outputs": [
    {
     "name": "stdout",
     "output_type": "stream",
     "text": [
      "10/10 [==============================] - 0s 1ms/step\n"
     ]
    }
   ],
   "source": [
    "y_predict_2 = model_2.predict(X_test_tensor)"
   ]
  },
  {
   "cell_type": "code",
   "execution_count": 41,
   "metadata": {},
   "outputs": [
    {
     "data": {
      "text/plain": [
       "(13.983737, 281.07346)"
      ]
     },
     "execution_count": 41,
     "metadata": {},
     "output_type": "execute_result"
    }
   ],
   "source": [
    "# Calculate model_2 metrics\n",
    "mae_2 = mae(y_test_tensor, y_predict_2.squeeze()).numpy()\n",
    "mse_2 = mse(y_test_tensor, y_predict_2.squeeze()).numpy()\n",
    "mae_2, mse_2"
   ]
  },
  {
   "cell_type": "code",
   "execution_count": 43,
   "metadata": {},
   "outputs": [],
   "source": [
    "model_results = [[\"model_1\", mae_1, mse_1],\n",
    "                 [\"model_2\", mae_2, mse_2],]"
   ]
  },
  {
   "cell_type": "code",
   "execution_count": 44,
   "metadata": {},
   "outputs": [
    {
     "data": {
      "text/html": [
       "<div>\n",
       "<style scoped>\n",
       "    .dataframe tbody tr th:only-of-type {\n",
       "        vertical-align: middle;\n",
       "    }\n",
       "\n",
       "    .dataframe tbody tr th {\n",
       "        vertical-align: top;\n",
       "    }\n",
       "\n",
       "    .dataframe thead th {\n",
       "        text-align: right;\n",
       "    }\n",
       "</style>\n",
       "<table border=\"1\" class=\"dataframe\">\n",
       "  <thead>\n",
       "    <tr style=\"text-align: right;\">\n",
       "      <th></th>\n",
       "      <th>model</th>\n",
       "      <th>mae</th>\n",
       "      <th>mse</th>\n",
       "    </tr>\n",
       "  </thead>\n",
       "  <tbody>\n",
       "    <tr>\n",
       "      <th>0</th>\n",
       "      <td>model_1</td>\n",
       "      <td>5.110868</td>\n",
       "      <td>37.192032</td>\n",
       "    </tr>\n",
       "    <tr>\n",
       "      <th>1</th>\n",
       "      <td>model_2</td>\n",
       "      <td>13.983737</td>\n",
       "      <td>281.073456</td>\n",
       "    </tr>\n",
       "  </tbody>\n",
       "</table>\n",
       "</div>"
      ],
      "text/plain": [
       "     model        mae         mse\n",
       "0  model_1   5.110868   37.192032\n",
       "1  model_2  13.983737  281.073456"
      ]
     },
     "execution_count": 44,
     "metadata": {},
     "output_type": "execute_result"
    }
   ],
   "source": [
    "import pandas as pd\n",
    "all_results = pd.DataFrame(model_results, columns=[\"model\", \"mae\", \"mse\"])\n",
    "all_results"
   ]
  },
  {
   "cell_type": "code",
   "execution_count": 45,
   "metadata": {},
   "outputs": [
    {
     "name": "stdout",
     "output_type": "stream",
     "text": [
      "INFO:tensorflow:Assets written to: best_model_SavedModel_format/assets\n"
     ]
    }
   ],
   "source": [
    "# Save a model using the SavedModel format\n",
    "model_2.save('best_model_SavedModel_format')"
   ]
  },
  {
   "cell_type": "code",
   "execution_count": 46,
   "metadata": {},
   "outputs": [],
   "source": [
    "model_2.save(\"best_model_HDF5_format.h5\")"
   ]
  },
  {
   "cell_type": "code",
   "execution_count": 47,
   "metadata": {},
   "outputs": [
    {
     "name": "stdout",
     "output_type": "stream",
     "text": [
      "Model: \"sequential_3\"\n",
      "_________________________________________________________________\n",
      " Layer (type)                Output Shape              Param #   \n",
      "=================================================================\n",
      " dense_4 (Dense)             (None, 1)                 2         \n",
      "                                                                 \n",
      " dense_5 (Dense)             (None, 1)                 2         \n",
      "                                                                 \n",
      "=================================================================\n",
      "Total params: 4\n",
      "Trainable params: 4\n",
      "Non-trainable params: 0\n",
      "_________________________________________________________________\n"
     ]
    }
   ],
   "source": [
    "loaded_saved_model = tf.keras.models.load_model(\"best_model_SavedModel_format\")\n",
    "loaded_saved_model.summary()"
   ]
  },
  {
   "cell_type": "code",
   "execution_count": 48,
   "metadata": {},
   "outputs": [
    {
     "name": "stdout",
     "output_type": "stream",
     "text": [
      "10/10 [==============================] - 0s 815us/step\n",
      "10/10 [==============================] - 0s 745us/step\n"
     ]
    },
    {
     "data": {
      "text/plain": [
       "True"
      ]
     },
     "execution_count": 48,
     "metadata": {},
     "output_type": "execute_result"
    }
   ],
   "source": [
    "model_2_preds = model_2.predict(X_test)\n",
    "saved_model_preds = loaded_saved_model.predict(X_test)\n",
    "mae(y_test_tensor, saved_model_preds.squeeze()).numpy() == mae(y_test_tensor, model_2_preds.squeeze()).numpy()"
   ]
  },
  {
   "cell_type": "code",
   "execution_count": 49,
   "metadata": {},
   "outputs": [
    {
     "name": "stdout",
     "output_type": "stream",
     "text": [
      "Model: \"sequential_3\"\n",
      "_________________________________________________________________\n",
      " Layer (type)                Output Shape              Param #   \n",
      "=================================================================\n",
      " dense_4 (Dense)             (None, 1)                 2         \n",
      "                                                                 \n",
      " dense_5 (Dense)             (None, 1)                 2         \n",
      "                                                                 \n",
      "=================================================================\n",
      "Total params: 4\n",
      "Trainable params: 4\n",
      "Non-trainable params: 0\n",
      "_________________________________________________________________\n"
     ]
    }
   ],
   "source": [
    "loaded_h5_model = tf.keras.models.load_model(\"best_model_HDF5_format.h5\")\n",
    "loaded_h5_model.summary()"
   ]
  },
  {
   "cell_type": "code",
   "execution_count": 50,
   "metadata": {},
   "outputs": [
    {
     "name": "stdout",
     "output_type": "stream",
     "text": [
      "10/10 [==============================] - 0s 830us/step\n"
     ]
    },
    {
     "data": {
      "text/plain": [
       "True"
      ]
     },
     "execution_count": 50,
     "metadata": {},
     "output_type": "execute_result"
    }
   ],
   "source": [
    "h5_model_preds = loaded_h5_model.predict(X_test)\n",
    "mae(y_test, h5_model_preds.squeeze()).numpy() == mae(y_test, model_2_preds.squeeze()).numpy()"
   ]
  }
 ],
 "metadata": {
  "kernelspec": {
   "display_name": "Python 3.8.10 ('cer_tensorflow')",
   "language": "python",
   "name": "python3"
  },
  "language_info": {
   "codemirror_mode": {
    "name": "ipython",
    "version": 3
   },
   "file_extension": ".py",
   "mimetype": "text/x-python",
   "name": "python",
   "nbconvert_exporter": "python",
   "pygments_lexer": "ipython3",
   "version": "3.8.10"
  },
  "orig_nbformat": 4,
  "vscode": {
   "interpreter": {
    "hash": "e8a34d558487fb972886c2414a21f1669aa87ac468221abd21a5c7781ff27a8e"
   }
  }
 },
 "nbformat": 4,
 "nbformat_minor": 2
}
